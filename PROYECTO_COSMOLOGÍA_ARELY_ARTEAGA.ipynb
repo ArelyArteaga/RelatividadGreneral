{
  "nbformat": 4,
  "nbformat_minor": 0,
  "metadata": {
    "colab": {
      "provenance": [],
      "authorship_tag": "ABX9TyMuuPM//s59KIhFgbONwmar"
    },
    "kernelspec": {
      "name": "python3",
      "display_name": "Python 3"
    },
    "language_info": {
      "name": "python"
    }
  },
  "cells": [
    {
      "cell_type": "markdown",
      "metadata": {
        "id": "BgYhj4RFpf1_"
      },
      "source": [
        "#MODULOS"
      ]
    },
    {
      "cell_type": "markdown",
      "metadata": {
        "id": "O6uWFqXqsO87"
      },
      "source": [
        "Un módulo nos ayuda para hacer declaraciones en Python, o mediante la biblioteca que utilizamos, ya sea para realizar gráficas, integrales, etc.\n",
        "\n",
        "Estos módulos o librerías nos ayudarán a desempeñar bien y más fácil nuestro trabajo\n"
      ]
    },
    {
      "cell_type": "code",
      "metadata": {
        "id": "YkGFfDxvpJ_W"
      },
      "source": [
        "\n",
        "#Para realizar operaciones potentes estructuras de datos que garantizan cálculos eficientes con matrices.\n",
        "import numpy as np\n",
        "\n",
        "#Colección de funciones de estilo comando que hacen que funcione como MATLAB.\n",
        "import matplotlib.pyplot as plt\n",
        "\n",
        "#Encuentra el mínimo global de una función multivariante.\n",
        "from scipy.optimize import differential_evolution\n",
        "\n",
        "#Calcular una integral definida.\n",
        "from scipy.integrate import quad\n",
        "\n",
        "#Descripción. El método log10 devuelve el logaritmo de base-10 de x para x > 0.\n",
        "from math import log10\n",
        "\n",
        "#Encuentra la enésima derivada de una función en un punto.\n",
        "from scipy.misc import derivative\n",
        "\n",
        "from math import log10\n",
        "\n",
        "from math import pi"
      ],
      "execution_count": 1,
      "outputs": []
    },
    {
      "cell_type": "markdown",
      "metadata": {
        "id": "tZnYwIfOpiku"
      },
      "source": [
        "#CONSTANTES"
      ]
    },
    {
      "cell_type": "code",
      "metadata": {
        "id": "pUGM7AcvpjAr"
      },
      "source": [
        "Nefn=3.04\n",
        "neff0=3.04\n",
        "h0=0.6734 #parámetro de Hubble inicial\n",
        "H0=100*h0\n",
        "om0i= 0.241453\n",
        "dom=0.0174\n",
        "dh0=0.0174\n",
        "obhh0=0.02202\n",
        "dobhh0=0.00046\n",
        "c=299792 #velocidad de la luz\n",
        "cl=9.26*pow(10,23)\n",
        "omra=7*pow(10,-7)\n",
        "om =(1-omra)/(1+np.pi)\n",
        "HLCDM=0.674\n",
        "#om=0.24145 #En este caso donde tenemos dos \"om\", tomará a consideracion la ultima para futuros cálculos\n",
        "k=0\n",
        "omL=0.7\n",
        "om=0.3\n",
        "h0=0.6734"
      ],
      "execution_count": null,
      "outputs": []
    },
    {
      "cell_type": "markdown",
      "metadata": {
        "id": "6qlRxQpapja9"
      },
      "source": [
        "#ABRIR ARCHIVO"
      ]
    },
    {
      "cell_type": "markdown",
      "metadata": {
        "id": "eYYORvapJPN0"
      },
      "source": [
        "cuando se pide que se abra un documento lo primero por hacer es cargarlo y posteriormente  se pone  el comando “open” y el nombre del archivo, si no se le agrega nada más a dicho documento no se le podrá cambiar nada, a menos que se agregue ya sea “a” (Append)para crear el documento si es que no existe, o bien “w” (Write), este abre el archivo, para escribir dentro de el, o tambien “x”, este comando crea un archivo en específico, y nos presenta si hay errores en el archivo.\n",
        "\n",
        "Corrimiento al rojo (redshift)(z): El desplazamiento al rojo es donde λ y λ_0 son las longitudes de onda emitidas y observadas respectivamente, y v y v_0 son las frecuencias emitidas y observadas respectivamente, de una línea espectral identificada. Aquí, el desplazamiento al rojo se determina con respecto a un observador en la Tierra.(se supone que z es independiente de la longitud de onda.  Sin embargo, esto no es absolutamente necesario: Una longitud de onda de onda podría ser útil si las mediciones de diferentes desplazamientos al rojo para el mismo objeto observado a diferentes longitudes de onda).\n",
        "\n",
        "Parametro de hubble: Cociente entre la distancia de una galaxia a la Tierra y la velocidad con que se aleja de ella, formulada por Hubble.\n"
      ]
    },
    {
      "cell_type": "code",
      "metadata": {
        "colab": {
          "base_uri": "https://localhost:8080/"
        },
        "id": "d2dUymxZq8Ej",
        "outputId": "9d97f42f-9922-4866-9721-68a914b5e04d"
      },
      "source": [
        "muestraHz=open(\"Hz_1.txt\")\n",
        "redshift=[] #corrimiento al rojo:ocurre cuando la radiación electromagnética, normalmente la luz visible, que se emite o refleja desde un objeto, es desplazada hacia el rojo al final del espectro electromagnético.\n",
        "Hz=[]#Parametro de hubble\n",
        "eHz=[] #error de hubble\n",
        "cerdito=[] #la razon de que aparece y como fuenciona más adelante...[7]\n",
        "\n",
        "for linea in muestraHz:\n",
        "    vectora=linea.split()\n",
        "    redshift.append(float(vectora[0]))\n",
        "    Hz.append(float(vectora[1]))\n",
        "    eHz.append(float(vectora[2]))\n",
        "    cerdito.append(2*float(vectora[2])+1)\n",
        "\n",
        "\n",
        "\n",
        "print('Longitud:',len(Hz))"
      ],
      "execution_count": null,
      "outputs": [
        {
          "output_type": "stream",
          "name": "stdout",
          "text": [
            "Longitud: 38\n"
          ]
        }
      ]
    },
    {
      "cell_type": "code",
      "metadata": {
        "colab": {
          "base_uri": "https://localhost:8080/"
        },
        "id": "pYnlfOb_q8UG",
        "outputId": "0653ccd9-ff34-46a7-c088-892a4fa4924b"
      },
      "source": [
        "print('MUESTRA:', muestraHz)\n",
        "print('Redshift', redshift)\n",
        "print('LONGITUD:', len(Hz))\n",
        "print('Hubble(z):', Hz)"
      ],
      "execution_count": null,
      "outputs": [
        {
          "output_type": "stream",
          "name": "stdout",
          "text": [
            "MUESTRA: <_io.TextIOWrapper name='Hz_1.txt' mode='r' encoding='UTF-8'>\n",
            "Redshift [0.07, 0.09, 0.12, 0.17, 0.179, 0.199, 0.2, 0.24, 0.27, 0.28, 0.352, 0.3802, 0.4, 0.4004, 0.4247, 0.44, 0.4497, 0.47, 0.4783, 0.48, 0.593, 0.6, 0.68, 0.73, 0.781, 0.875, 0.88, 0.9, 1.037, 1.3, 1.363, 1.43, 1.53, 1.75, 1.965, 2.33, 2.34, 2.36]\n",
            "LONGITUD: 38\n",
            "Hubble(z): [69.0, 69.0, 68.6, 83.0, 75.0, 75.0, 72.9, 79.69, 77.0, 88.8, 83.0, 83.0, 95.0, 77.0, 87.1, 82.6, 92.8, 89.0, 80.9, 97.0, 104.0, 87.9, 92.0, 97.3, 105.0, 125.0, 90.0, 117.0, 154.0, 168.0, 160.0, 177.0, 140.0, 202.0, 186.5, 224.0, 222.0, 226.0]\n"
          ]
        }
      ]
    },
    {
      "cell_type": "code",
      "metadata": {
        "colab": {
          "base_uri": "https://localhost:8080/"
        },
        "id": "JTDonUQGq8WE",
        "outputId": "f12116a2-f65f-4891-dbba-9992e07170dc"
      },
      "source": [
        "eHz.append(9.999999) #este valor si lo vemos en la lista no aparece, pero aparece \"append\", lo cual significa que al final de los valores nos va a aparecer dicho valor agregado en el código, mas no en el archivo .txt\n",
        "print('Error de Hubble(z):', eHz) #corremos para comprobar lo antes dicho"
      ],
      "execution_count": null,
      "outputs": [
        {
          "output_type": "stream",
          "name": "stdout",
          "text": [
            "Error de Hubble(z): [19.6, 12.0, 26.2, 8.0, 4.0, 5.0, 29.6, 2.65, 14.0, 36.6, 14.0, 13.5, 17.0, 10.2, 11.2, 7.8, 12.9, 50.0, 9.0, 60.0, 13.0, 6.1, 8.0, 7.0, 12.0, 17.0, 40.0, 23.0, 20.0, 17.0, 33.6, 18.0, 14.0, 40.0, 50.4, 8.0, 7.0, 8.0, 9.999999]\n"
          ]
        }
      ]
    },
    {
      "cell_type": "code",
      "metadata": {
        "colab": {
          "base_uri": "https://localhost:8080/"
        },
        "id": "gw9LP17Bq8Yy",
        "outputId": "8c7d5caf-7b2a-4e4b-d21b-91ad15275724"
      },
      "source": [
        "######SE PONEN LO SIGUINETE EN DONDE CORRESPONDA#######\n",
        "###cerdito=[]\n",
        "###cerdito.append(2*float(vectora[2])+1)\n",
        "###print('Cerdito:', cerdito)\n",
        "print('Cerdito:', cerdito)"
      ],
      "execution_count": null,
      "outputs": [
        {
          "output_type": "stream",
          "name": "stdout",
          "text": [
            "Cerdito: [40.2, 25.0, 53.4, 17.0, 9.0, 11.0, 60.2, 6.3, 29.0, 74.2, 29.0, 28.0, 35.0, 21.4, 23.4, 16.6, 26.8, 101.0, 19.0, 121.0, 27.0, 13.2, 17.0, 15.0, 25.0, 35.0, 81.0, 47.0, 41.0, 35.0, 68.2, 37.0, 29.0, 81.0, 101.8, 17.0, 15.0, 17.0]\n"
          ]
        }
      ]
    },
    {
      "cell_type": "markdown",
      "metadata": {
        "id": "tgy5uL7Vt39k"
      },
      "source": [
        "Este este como el caso anterior no aparece en nuestro archivo, sin embargo si lo definimos y corremos como podemos ver el al archivo .txt no aparece, sin embargo, como no especificamos que queremos que lo creara, entonces no cambiará para nada nuestro documento, lo que si es que si lo definimos en nuestro código si nos aparecerá y consecuentemente lo ejecutará."
      ]
    },
    {
      "cell_type": "markdown",
      "metadata": {
        "id": "uJEF7xQYrRXN"
      },
      "source": [
        "#PARAMETROS DEL MODELO"
      ]
    },
    {
      "cell_type": "markdown",
      "metadata": {
        "id": "apGI_ue7Wnt6"
      },
      "source": [
        "Los llamados parámetros del modelo no son más que nuestros conceptos básicos para la realización de dicho modelo, lo cual nos lleva a cuestionarnos cuáles son estrictamente necesarios y cuáles no, algunos ya se definieron anteriormente en forma de constantes, estos se pueden verificar en dicha parte, pero hay otros que aún faltan por definirse, y con la ayuda de lo que ya tenemos es cómo podemos encontrarlos mediante fórmulas ya establecidas.\n"
      ]
    },
    {
      "cell_type": "code",
      "metadata": {
        "colab": {
          "base_uri": "https://localhost:8080/"
        },
        "id": "rjA263UJq8bi",
        "outputId": "8d277df0-734a-4d94-c422-45ffe0e88623"
      },
      "source": [
        "print('Densidad de materia om sale de la condicion...')\n",
        "print(' \\u03A9', om)"
      ],
      "execution_count": null,
      "outputs": [
        {
          "output_type": "stream",
          "name": "stdout",
          "text": [
            "Densidad de materia om sale de la condicion...\n",
            " Ω 0.3\n"
          ]
        }
      ]
    },
    {
      "cell_type": "markdown",
      "metadata": {
        "id": "h2yv-I2Prh0h"
      },
      "source": [
        "#DEFINICIONES DEL MODELO"
      ]
    },
    {
      "cell_type": "markdown",
      "metadata": {
        "id": "xFRzlj0ef8_I"
      },
      "source": [
        "Por otra parte las definiciones del modelo son muy parecidos a los parámetros, sin embargo en esta sección lo que se hace más es lo segundo que se definió anteriormente, es decir, las ecuaciones  con ayuda de las constantes anteriormente establecidas para ya empezar a precisar nuestro modelo.\n",
        "\n",
        "\n",
        " intensidad radiante: es el flujo radiante emitido, reflejado, transmitido o recibido, por unidad de ángulo sólido , y la intensidad espectral es la intensidad radiante por unidad de frecuencia o longitud de onda , dependiendo de si el espectro se toma en función de la frecuencia o de la longitud de onda. . Estas son cantidades direccionales . La unidad SI de intensidad radiante es el vatio por estereorradián ( W / sr ), mientras que la de la intensidad espectral en frecuencia es el vatio por estereorradián por hertz (W · sr −1 · Hz −1 ) y el de la intensidad espectral en longitud de onda es el vatio por estereorradián por metro ( W · sr −1 · m −1 ), comúnmente el vatio por estereorradián por nanómetro ( W · sr −1 · nm −1 ). La intensidad radiante es distinta de la irradiancia y la salida radiante , que a menudo se denominan intensidad en ramas de la física distintas de la radiometría. En la ingeniería de radiofrecuencia , la intensidad radiante a veces se denomina intensidad de radiación ."
      ]
    },
    {
      "cell_type": "code",
      "metadata": {
        "id": "eYtoqMamq8eo"
      },
      "source": [
        "# Hora para el valor de omega, donde primero se define \"Omega\", esto con el proposito de poner dicho valor en termonos de h0\n",
        "\n",
        "def omr(h):\n",
        "    #return 4.75*pow(10,-5)\n",
        "     return 2.469e-5*pow(h,-2.0)*(1.0+0.2271*Nefn)\n",
        "     # return 0.000001*pow(1.0+z,4.0) 2.469e-5*pow(result.x[0],-2.0)*(1.0+0.2271*Nefn)*pow(1.0+x,4.0)"
      ],
      "execution_count": null,
      "outputs": []
    },
    {
      "cell_type": "code",
      "metadata": {
        "id": "wdxcSXzeq8hj"
      },
      "source": [
        "#Aqui defino Ez para el primer modelo variable, donde tenemos que  h=h0 i.e H=h*100 [50,100]\n",
        "def ELCDM(h,z):\n",
        "    a=omr(h)*pow(1.0+z,4.0) + om*pow(1.0+z,3.0) +(omL)\n",
        "    return np.sqrt(a)\n",
        "\n",
        "# esto ya anteriormente definido en la parte de constantes\n",
        "omL=0.7\n",
        "om=0.3\n",
        "h0=0.6734\n",
        "\n",
        "def HLCDM(h,z):\n",
        "    a=omr(h)*pow(1.0+z,4.0) + om*pow(1.0+z,3.0) +(omL)\n",
        "    return (h*100)*np.sqrt(a)"
      ],
      "execution_count": null,
      "outputs": []
    },
    {
      "cell_type": "markdown",
      "metadata": {
        "id": "MVTv08vwrxQv"
      },
      "source": [
        "#DEFINICIONES DEL CHI MODELO"
      ]
    },
    {
      "cell_type": "markdown",
      "metadata": {
        "id": "0gkUMzrBI1Ra"
      },
      "source": [
        "Pero primero recoedemos lo que es, ya que podemos decir que es una prueba de chi-cuadrada  de hipótesis que compara la distribución observada de los datos con una distribución esperada de los datos.Existen varios tipos de pruebas de chi-cuadrada: Prueba de bondad de ajuste de chi-cuadrada ó Pruebas de chi-cuadrada de asociación e independencia\n",
        "\n",
        "-LCDM: es una parametrización del modelo cosmológico del Big Bang en el que el universo contiene tres componentes principales: primero, una constante cosmológica (Λ) asociada con la energía oscura ; segundo, la materia oscura fría postulada (CDM); y tercero, materia ordinaria . Con frecuencia se lo denomina modelo estándar. de la cosmología del Big Bang porque es el modelo más simple que proporciona una explicación razonablemente buena de las siguientes propiedades del cosmos: la lente gravitacional, la existencia y estructura del fondo cósmico de microondas y en la distribución de las galaxias. etc. La expansión acelerada del universo observada a la luz de galaxias distantes y supernovas el hecho observado de que en las galaxias espirales la velocidad de rotación de los brazos alrededor del núcleo disminuye extremadamente débilmente con el aumento de la distancia desde éste."
      ]
    },
    {
      "cell_type": "code",
      "metadata": {
        "colab": {
          "base_uri": "https://localhost:8080/"
        },
        "id": "S3iJ3MNDq8jp",
        "outputId": "5421b469-4440-4850-cfc0-caf70a1f8536"
      },
      "source": [
        "print(Hz)\n",
        "def chi_abal(h):\n",
        "   chi=0.0\n",
        "   for i in range(len(Hz)):\n",
        "    chi+=((Hz[i]-HLCDM(h,redshift[i]))/(eHz[i]))**2\n",
        "   return chi\n",
        "print('#################################' )\n",
        "print('chi cuadrada 0.5',chi_abal(0.6) )\n",
        "print('chi cuadrada 0.64',chi_abal(0.649) )\n",
        "print('chi cuadrada 0.65',chi_abal(0.65) )\n",
        "print('chi cuadrada 0.642',chi_abal(0.651) )\n",
        "print('ELCDM', (0.67*100)*ELCDM(0.67,z=1))\n",
        "print('HLCDM', HLCDM(0.67,z=1))\n",
        "print('#################################' )\n",
        "print('chi cuadrada 0.5',chi_abal(0.8) )\n",
        "print('chi cuadrada 0.64',chi_abal(0.849) )\n",
        "print('chi cuadrada 0.65',chi_abal(0.85) )\n",
        "print('chi cuadrada 0.642',chi_abal(0.851) )\n",
        "print('ELCDM', (0.87*100)*ELCDM(0.87,z=1))\n",
        "print('HLCDM', HLCDM(0.87,z=1))"
      ],
      "execution_count": null,
      "outputs": [
        {
          "output_type": "stream",
          "name": "stdout",
          "text": [
            "[69.0, 69.0, 68.6, 83.0, 75.0, 75.0, 72.9, 79.69, 77.0, 88.8, 83.0, 83.0, 95.0, 77.0, 87.1, 82.6, 92.8, 89.0, 80.9, 97.0, 104.0, 87.9, 92.0, 97.3, 105.0, 125.0, 90.0, 117.0, 154.0, 168.0, 160.0, 177.0, 140.0, 202.0, 186.5, 224.0, 222.0, 226.0]\n",
            "#################################\n",
            "chi cuadrada 0.5 84.36977220157364\n",
            "chi cuadrada 0.64 27.62314682274914\n",
            "chi cuadrada 0.65 27.123809527492675\n",
            "chi cuadrada 0.642 26.65082396576081\n",
            "ELCDM 117.99397312131497\n",
            "HLCDM 117.99397312131497\n",
            "#################################\n",
            "chi cuadrada 0.5 250.69257761235582\n",
            "chi cuadrada 0.64 452.2343547974326\n",
            "chi cuadrada 0.65 457.006469269803\n",
            "chi cuadrada 0.642 461.8049449079351\n",
            "ELCDM 153.20110212708522\n",
            "HLCDM 153.20110212708522\n"
          ]
        }
      ]
    },
    {
      "cell_type": "markdown",
      "metadata": {
        "id": "RMYWYflVveCM"
      },
      "source": [
        "#GRÁFICAS #1"
      ]
    },
    {
      "cell_type": "code",
      "metadata": {
        "id": "jBADniLwvn5y"
      },
      "source": [
        "###PARA DIVIDIR\n",
        "x = np.linspace(0,2.6,250)"
      ],
      "execution_count": null,
      "outputs": []
    },
    {
      "cell_type": "code",
      "metadata": {
        "colab": {
          "base_uri": "https://localhost:8080/",
          "height": 282
        },
        "id": "wPDAd2k-vovt",
        "outputId": "580242ad-1868-4c0e-fad5-5b4834967179"
      },
      "source": [
        "###PARA GRAFICAR CON EL MODELO ADIMENCIONAL\n",
        "plt.plot(x,67.34*ELCDM(67.34,x), 'b',linestyle='dashed', label='H_0=67.34 $\\Lambda CDM$')"
      ],
      "execution_count": null,
      "outputs": [
        {
          "output_type": "execute_result",
          "data": {
            "text/plain": [
              "[<matplotlib.lines.Line2D at 0x7eff1b942d50>]"
            ]
          },
          "metadata": {},
          "execution_count": 31
        },
        {
          "output_type": "display_data",
          "data": {
            "image/png": "[encoded data removed]",
            "text/plain": [
              "<Figure size 432x288 with 1 Axes>"
            ]
          },
          "metadata": {
            "needs_background": "light"
          }
        }
      ]
    },
    {
      "cell_type": "code",
      "metadata": {
        "colab": {
          "base_uri": "https://localhost:8080/",
          "height": 265
        },
        "id": "T3sogvpWvota",
        "outputId": "93420d14-42c2-4729-8066-98194148e980"
      },
      "source": [
        "#y = (0.3158*(x+1)**3+2.469e-5*pow(67.32,-2.0)*(1.0+0.2271*Nefn)*(x+1)**4+(1-0.3158))**(0.5)\n",
        "\n",
        "#plt.plot(x,67.34*ELCDM(h0,x), 'r',linestyle=':', label='H_0=67.34 $\\Lambda CDM$')\n",
        "plt.plot(x,67.34*ELCDM(h0,x),'r',linestyle=':')\n",
        "plt.plot(x,74.34*ELCDM(h0,x),'b',linestyle='-.')\n",
        "plt.plot(x,70.34*ELCDM(h0,x),'g',linestyle='--')\n",
        "plt.show()\n",
        "\n"
      ],
      "execution_count": null,
      "outputs": [
        {
          "output_type": "display_data",
          "data": {
            "image/png": "[encoded data removed]",
            "text/plain": [
              "<Figure size 432x288 with 1 Axes>"
            ]
          },
          "metadata": {
            "needs_background": "light"
          }
        }
      ]
    },
    {
      "cell_type": "markdown",
      "metadata": {
        "id": "teM9kmQQsC7-"
      },
      "source": [
        "#uso diferentiel evolution MODELO"
      ]
    },
    {
      "cell_type": "markdown",
      "metadata": {
        "id": "yL8PwXZGJDAC"
      },
      "source": [
        "Differential_Evolution: La evolución diferencial es de naturaleza estocástica, esto quiere decir que no hace uso de los  métodos de gradiente, se utiliza para encontrar el mínimo, y puede buscar en grandes áreas del espacio candidato, pero a menudo requiere un mayor número de evaluaciones de funciones que las técnicas convencionales basadas en el gradiente."
      ]
    },
    {
      "cell_type": "code",
      "metadata": {
        "id": "gsJwVGHuq8mE"
      },
      "source": [
        "\n",
        "#fun=lambda par: chi_lcdm(par[0], par[1]) # va a optimizar h. om\n",
        "#bounds = [(0.0001,1.0), (0.0001,1.0)]# cotas\n",
        "#result = differential_evolution (fun, bounds)# guarda en result la opimización ## AQUI ES DONDE ME APARECE ERROR\n",
        "#result.x, result.fun #result.x, valores de las variables opimizadas,\n",
        "#result.fun esta guardado el valor de la funcion optimizada"
      ],
      "execution_count": null,
      "outputs": []
    },
    {
      "cell_type": "markdown",
      "metadata": {
        "id": "vRCaV9UOsXEE"
      },
      "source": [
        "#EDAD DEL UNIVERSO"
      ]
    },
    {
      "cell_type": "markdown",
      "metadata": {
        "id": "F6aWq1ibF0ea"
      },
      "source": [
        "La edad del universo se puede llegar a calcular con una estimación de la edad del Universo a partir de la Ley de Hubble. La distancia entre dos galaxias es D. La velocidad aparente con la que se separan es v. En algún momento, las galaxias se tocaron y podemos considerar ese momento como el momento del Big Bang. Si toma la separación entre las dos galaxias (D) y la divide por la velocidad aparente (v), obtendrá el tiempo que tardaron las galaxias en alcanzar su separación actual.\n"
      ]
    },
    {
      "cell_type": "code",
      "metadata": {
        "colab": {
          "base_uri": "https://localhost:8080/"
        },
        "id": "ex8pgvctq8oh",
        "outputId": "d49e14a8-e33e-467c-f40b-768c13d36791"
      },
      "source": [
        "h=0.64 #H_0=100h_0 #Esto ya está definido en las consatantes\n",
        "H_0=100*h\n",
        "print(' (1/(E(z)(1+z))')\n",
        "def ELCDMinv(z):\n",
        "    E2=omr(h)*pow(1.0+z,4.0) + om*pow(1.0+z,3.0) +(omL)\n",
        "    return 1/(np.sqrt(E2)*(1+z))\n",
        "\n",
        "def agelcdm(b):\n",
        "    t=quad(ELCDMinv,0,b)[0]\n",
        "    return (1/(H_0*3.24*pow(10,-20))*t)"
      ],
      "execution_count": null,
      "outputs": [
        {
          "output_type": "stream",
          "name": "stdout",
          "text": [
            " (1/(E(z)(1+z))\n"
          ]
        }
      ]
    },
    {
      "cell_type": "code",
      "metadata": {
        "colab": {
          "base_uri": "https://localhost:8080/"
        },
        "id": "0XTOMrqRq8rJ",
        "outputId": "120af7af-89d1-481b-e145-8e8a928b3ab5"
      },
      "source": [
        "#H= Mpc 1 km 3.24 x10^-20\n",
        "\n",
        "\n",
        "print('t=(1/h_0) int (dz/(E(z)(1+z))',agelcdm(200000)/31557600000000000) #en megaparsec"
      ],
      "execution_count": null,
      "outputs": [
        {
          "output_type": "stream",
          "name": "stdout",
          "text": [
            "t=(1/h_0) int (dz/(E(z)(1+z)) 14.723991448684698\n"
          ]
        }
      ]
    },
    {
      "cell_type": "code",
      "metadata": {
        "id": "4uefpY0tq8vG"
      },
      "source": [
        "#inverso del modelo  de E(z)\n",
        "def Ezi(x):\n",
        "    a=7.067008978338794*pow(10,-5)*pow(1.0+x,4.0) + om*pow(1.0+x,3.0) +(omL)\n",
        "    return (1/np.sqrt(a))\n",
        "\n",
        "#distancia luminosa LCDM\n",
        "def etr(w):\n",
        "    et=(c/(0.7486693757467675*100))*(1+w)*quad(Ezi,0,w)[0]\n",
        "    return 25+5*log10(et)\n",
        "\n",
        "#distancia luminosa modelo SE PUEDE PASAR MAS ADELANTE\n",
        "def etl(w):\n",
        "    et=(c/(67.46))*(1+w)*quad(Ezi,0,w)[0]\n",
        "    return 25+5*log10(et)\n"
      ],
      "execution_count": null,
      "outputs": []
    },
    {
      "cell_type": "markdown",
      "metadata": {
        "id": "gDt6xT8_spjX"
      },
      "source": [
        "#DATOS DE UNION"
      ]
    },
    {
      "cell_type": "markdown",
      "metadata": {
        "id": "2aHVdGX2tgae"
      },
      "source": [
        "Aquí nuevamente utilizamos un archivo diferente, pero como en el caso anterior no especificamos cómo queremos que se abra el documento\n"
      ]
    },
    {
      "cell_type": "code",
      "metadata": {
        "colab": {
          "base_uri": "https://localhost:8080/"
        },
        "id": "W2X5QC8Aq9Yp",
        "outputId": "12639e42-dede-43d4-a738-594dc09c3898"
      },
      "source": [
        "muestra=open(\"union21.txt\")\n",
        "red=[]\n",
        "dl=[]\n",
        "edl=[]\n",
        "\n",
        "distancia=[]\n",
        "lnred=[]\n",
        "x=[]\n",
        "ya=[]\n",
        "\n",
        "for linea in muestra:\n",
        "    vectora=linea.split()\n",
        "    red.append(float(vectora[1]))\n",
        "    dl.append(float(vectora[2]))#DISTANCIA LUMINOSA\n",
        "    edl.append(float(vectora[3]))\n",
        "    lnred.append(log10(float(vectora[1])))\n",
        "    distancia.append(etr(float(vectora[1])))\n",
        "\n",
        "print('Union 2.1:',len(dl))\n",
        "\n",
        ""
      ],
      "execution_count": null,
      "outputs": [
        {
          "output_type": "stream",
          "name": "stdout",
          "text": [
            "Union 2.1: 580\n"
          ]
        }
      ]
    },
    {
      "cell_type": "markdown",
      "metadata": {
        "id": "igv08WFvs1Nu"
      },
      "source": [
        "#DISTANCIA LUMINOSA"
      ]
    },
    {
      "cell_type": "markdown",
      "metadata": {
        "id": "s-aSG_0empw1"
      },
      "source": [
        "-La luminosidad: La luminosidad L es la potencia total radiada por la fuente. La medición de la luminosidad de un objeto lejano requiere conocer la distancia y la geometría espacial entre la fuente y el observador.\n",
        "\n",
        "-Distancia de luminosidad (dL): La distancia de luminosidad es la distancia a la que se encontraría un objeto en base a su luminosidad observada en ausencia de cualquier absorción. La distancia de luminosidad (dL) se define mediante la relación (dL=√L/(4πS_0)) donde L es la luminosidad (potencia total emitida) del objeto y (S_0=∫ I_0iΩ_0) es el flujo medido del objeto, es decir, la irradiancia (potencia por unidad de superficie en el observador) integrada sobre el ángulo sólido subtendido por la fuente. La luminosidad del objeto L se infiere mediante comparaciones con objetos similares.\n",
        "\n"
      ]
    },
    {
      "cell_type": "code",
      "metadata": {
        "id": "5wV_T-tuq9cH"
      },
      "source": [
        "def HLCDMinv(z):\n",
        "    E2=omr(h)*pow(1.0+z,4.0) + om*pow(1.0+z,3.0) +(omL)\n",
        "    return 1/(h*100*np.sqrt(E2))\n",
        "\n",
        "def dL(z):\n",
        "    d=quad(HLCDMinv,0,z)[0]\n",
        "    return c*(1+z)*d\n",
        "\n",
        "\n",
        "def DLL(h,z):#DISTANCIA APARENTE\n",
        "    dm=25+5*log10(dL(z))\n",
        "    return dm"
      ],
      "execution_count": null,
      "outputs": []
    },
    {
      "cell_type": "code",
      "metadata": {
        "id": "esxx7h71q9eL"
      },
      "source": [
        "#FUNCIÓN SIN  LA DEPENDENCIA DE H\n",
        "def DLLO(z):\n",
        "    dm=25+5*log10(dL(z))\n",
        "    return dm"
      ],
      "execution_count": null,
      "outputs": []
    },
    {
      "cell_type": "code",
      "metadata": {
        "id": "MYoja9gKq9gG"
      },
      "source": [
        "def Elcdm(x):\n",
        "    a=7.067008978338794*pow(10,-5)*pow(1.0+x,4.0) + (omL)*pow(1.0+x,3.0) +(omL)\n",
        "    return (1/np.sqrt(a))\n",
        "\n",
        "\n",
        "\n",
        "def DLL(h,w):\n",
        "    dett=(c/(h*100))*(1+w)*quad(Elcdm,0,w)[0]\n",
        "    return 25+5*log10(dett)"
      ],
      "execution_count": null,
      "outputs": []
    },
    {
      "cell_type": "markdown",
      "metadata": {
        "id": "fNfzMn65tDIV"
      },
      "source": [
        "##Para una mejor  Distancia luminosa LCDM"
      ]
    },
    {
      "cell_type": "code",
      "metadata": {
        "id": "4Xs45MySq9h9"
      },
      "source": [
        "def chi_DLL(h):\n",
        "    chi=0.0\n",
        "    for i in range(len(dl)):\n",
        "        chi+=pow((dl[i]-DLL(h,red[i]))/edl[i],2.0)\n",
        "    return chi"
      ],
      "execution_count": null,
      "outputs": []
    },
    {
      "cell_type": "code",
      "metadata": {
        "colab": {
          "base_uri": "https://localhost:8080/"
        },
        "id": "Co2szkm0q9j0",
        "outputId": "03fd87b7-93fc-49a5-9469-140fe309ce58"
      },
      "source": [
        "fun = lambda par: chi_DLL(par[0])\n",
        "bounds = [(0.0001,1.0)]\n",
        "resultDL = differential_evolution(fun, bounds)\n",
        "resultDL.x, resultDL.fun"
      ],
      "execution_count": null,
      "outputs": [
        {
          "output_type": "execute_result",
          "data": {
            "text/plain": [
              "(array([0.57003413]), 657.0821670156286)"
            ]
          },
          "metadata": {},
          "execution_count": 68
        }
      ]
    },
    {
      "cell_type": "code",
      "metadata": {
        "colab": {
          "base_uri": "https://localhost:8080/"
        },
        "id": "Qj_piXlTq9lR",
        "outputId": "6d8b107f-8116-4c12-f3b3-01c556aaf648"
      },
      "source": [
        "chidl=chi_DLL(resultDL.x[0])\n",
        "print('best-fit de h usando dif evolution es para DL:',resultDL.x[0]*100)"
      ],
      "execution_count": null,
      "outputs": [
        {
          "output_type": "stream",
          "name": "stdout",
          "text": [
            "best-fit de h usando dif evolution es para DL: 57.00341349972433\n"
          ]
        }
      ]
    },
    {
      "cell_type": "code",
      "metadata": {
        "colab": {
          "base_uri": "https://localhost:8080/"
        },
        "id": "VLMv320pq9o7",
        "outputId": "13bdda61-58ab-489d-f287-85421e5db56b"
      },
      "source": [
        "print('funcion optimizada',resultDL.fun)\n"
      ],
      "execution_count": null,
      "outputs": [
        {
          "output_type": "stream",
          "name": "stdout",
          "text": [
            "funcion optimizada 657.0821670156286\n"
          ]
        }
      ]
    },
    {
      "cell_type": "code",
      "metadata": {
        "colab": {
          "base_uri": "https://localhost:8080/"
        },
        "id": "MBolPzZztZlx",
        "outputId": "3073ae1c-66cc-4919-fd39-b6419d6deb59"
      },
      "source": [
        "print('bfchi DL',chidl)\n",
        "print('bfchi-reducido: $',chidl/( len(red)-3))"
      ],
      "execution_count": null,
      "outputs": [
        {
          "output_type": "stream",
          "name": "stdout",
          "text": [
            "bfchi DL 657.0821670156286\n",
            "bfchi-reducido: $ 1.1387905840825452\n"
          ]
        }
      ]
    },
    {
      "cell_type": "code",
      "metadata": {
        "colab": {
          "base_uri": "https://localhost:8080/"
        },
        "id": "cNO8o5W9tZhL",
        "outputId": "185dd6c9-b726-4522-9702-b1bea447dbae"
      },
      "source": [
        "print('BICLCDM',resultDL.x[0],chidl+3*np.log(len(red)))\n",
        "#print(distancia)"
      ],
      "execution_count": null,
      "outputs": [
        {
          "output_type": "stream",
          "name": "stdout",
          "text": [
            "BICLCDM 0.5700341349972433 676.17125132625\n"
          ]
        }
      ]
    },
    {
      "cell_type": "markdown",
      "metadata": {
        "id": "6jRGnfIAtjV4"
      },
      "source": [
        "#LOGARITMO"
      ]
    },
    {
      "cell_type": "code",
      "metadata": {
        "colab": {
          "base_uri": "https://localhost:8080/"
        },
        "id": "NCWbMtVbtZcv",
        "outputId": "0ed48d11-5d50-4541-eecb-2e716f98a753"
      },
      "source": [
        "def logo(w):\n",
        "    return log10(w)\n",
        "\n",
        "print('-------------------------------------------------------------')\n",
        "print('GRÁFICAS')\n",
        "print('-------------------------------------------------------------')\n",
        "\n",
        "# 100 linearly spaced numbers\n",
        "x = np.linspace(0.014,1.5,2000)\n"
      ],
      "execution_count": null,
      "outputs": [
        {
          "output_type": "stream",
          "name": "stdout",
          "text": [
            "-------------------------------------------------------------\n",
            "GRÁFICAS\n",
            "-------------------------------------------------------------\n"
          ]
        }
      ]
    },
    {
      "cell_type": "markdown",
      "metadata": {
        "id": "BSGFqiNItuTT"
      },
      "source": [
        "#GRÁFICAS #2"
      ]
    },
    {
      "cell_type": "code",
      "metadata": {
        "colab": {
          "base_uri": "https://localhost:8080/",
          "height": 279
        },
        "id": "rZTfaEv-tZXC",
        "outputId": "990b0045-775b-4e91-efc2-0e2ea8fb2f9e"
      },
      "source": [
        "# donde ponemos 100 linearly spaced numbers\n",
        "x = np.linspace(0.014,1.5,2000)\n",
        "\n",
        "\n",
        "\n",
        "#aquí fijamos el valor de h optmizado\n",
        "h=resultDL.x\n",
        "\n",
        "#funcion vectorizada\n",
        "vec_etr = np.vectorize(DLLO)\n",
        "\n",
        "#gráfica\n",
        "plt.plot(x,vec_etr(x), 'g',label='Distamncia lumínica' )\n",
        "\n",
        "plt.ylabel('m-M')#eje y # definicion de magnitud\n",
        "plt.xlabel('z redshift') #leyenda eje x\n",
        "\n",
        "#la leyenda de la linea\n",
        "plt.legend(loc='lower right',frameon=1)\n",
        "\n",
        "#errores\n",
        "plt.errorbar(red, dl,yerr=edl,color='black',fmt=',', capsize=1,elinewidth=0.8,alpha=0.7)\n",
        "\n",
        "\n",
        "plt.savefig('lux.pdf')\n",
        "\n",
        "\n",
        "plt.show()\n"
      ],
      "execution_count": null,
      "outputs": [
        {
          "output_type": "display_data",
          "data": {
            "image/png": "[encoded data removed]",
            "text/plain": [
              "<Figure size 432x288 with 1 Axes>"
            ]
          },
          "metadata": {
            "needs_background": "light"
          }
        }
      ]
    },
    {
      "cell_type": "markdown",
      "metadata": {
        "id": "Ar6i8R-Ut5rg"
      },
      "source": [
        "#LOGARITMO"
      ]
    },
    {
      "cell_type": "code",
      "metadata": {
        "colab": {
          "base_uri": "https://localhost:8080/",
          "height": 319
        },
        "id": "IphncREItY5F",
        "outputId": "1f25bcea-845c-476b-b022-0cae0c58f05d"
      },
      "source": [
        "def log(w):\n",
        "    return log10(w)\n",
        "\n",
        "#vectoriza funcion log\n",
        "vec_log=np.vectorize(log)\n",
        "\n",
        "\n",
        "#convierte datos de x a log10\n",
        "xlog=vec_log(x)\n",
        "\n",
        "\n",
        "print(xlog)\n",
        "\n",
        "#gráfica\n",
        "plt.plot(x,vec_etr(x), 'r',label='Distamncia lumínica' )\n",
        "plt.errorbar(red, dl,yerr=edl,color='black',fmt=',', capsize=1,elinewidth=0.8,alpha=0.7)\n",
        "\n",
        "plt.xscale(\"log\")#logscale x\n",
        "\n",
        "plt.ylabel('m-M')#leyenda eje y\n",
        "plt.xlabel(' log_10 z redshift') #leyenda eje x\n",
        "\n",
        "#guardar\n",
        "plt.savefig('loglux.pdf')\n",
        "\n",
        "\n",
        "plt.show()\n",
        "\n",
        "\n",
        "\n",
        "#etrt=np.array(etr)\n",
        "distanciaT=np.array(distancia)\n",
        "#print('xs',a)\n",
        "#print('reds',red)\n",
        "#print('distanciaposo',x)\n",
        "\n",
        "datos=vec_etr(x)#distancia  para modeloen terminos de x\n",
        "#datosl=vec_etl(x)#distancia  para lcdmen terminos de x\n",
        "#xlog=vec_log(x)\n",
        "datoz=vec_etr(red)#distancia  para modeloen terminos de z\n",
        "#print(datos)\n",
        "\n",
        "\n",
        "#datoss=datos\n",
        "#np.array(datoss).tolist()\n",
        "\n",
        "\n",
        "#plt.plot(x,76.4*(.2387*(x+1)**3+0.00001*(x+1)**4+(np.pi)*(.2387)*(x+1)**(2)*((1300+1)**(-3)+(x+1)**(-3))/((1300+1)**(-3)+(1)**(1)))**(0.5), 'r', label='Model')\n",
        "#plt.plot(red,dl, 'r', label='Model')\n",
        "#plt.ylabel('m-M')\n",
        "#plt.xlabel('z redshift')\n",
        "\n",
        "# show the plot\n",
        "#plt.errorbar(red, dl,yerr=edl,color='black',fmt=',', capsize=1,elinewidth=0.8,alpha=0.7)\n",
        "#plt.errorbar(x, datos,color='red',fmt='-',label='H_0=74.86 Model' ,linewidth=1)\n",
        "#plt.errorbar(x, datosl,color='blue',fmt='--', label='$H_0$=67.34 $\\Lambda$CDM',linewidth=1)\n",
        "\n",
        "#plt.title('Luminosity distance')\n",
        "#plt.savefig('lux.pdf')\n"
      ],
      "execution_count": null,
      "outputs": [
        {
          "output_type": "stream",
          "name": "stdout",
          "text": [
            "[-1.85387196 -1.83140319 -1.8100399  ...  0.17566059  0.17587598\n",
            "  0.17609126]\n"
          ]
        },
        {
          "output_type": "display_data",
          "data": {
            "image/png": "[encoded data removed]",
            "text/plain": [
              "<Figure size 432x288 with 1 Axes>"
            ]
          },
          "metadata": {
            "needs_background": "light"
          }
        }
      ]
    },
    {
      "cell_type": "markdown",
      "metadata": {
        "id": "0vnUbbqluGCT"
      },
      "source": [
        "#VECTIRIZAR"
      ]
    },
    {
      "cell_type": "code",
      "metadata": {
        "id": "gVzO4IKbtY1_"
      },
      "source": [
        "\n",
        "import numpy as np\n",
        "import matplotlib.pyplot as plt\n",
        "from scipy.optimize import differential_evolution\n",
        "from scipy.integrate import quad\n",
        "from math import log10\n",
        "from scipy.misc import derivative\n",
        "from math import log10\n",
        "from math import pi"
      ],
      "execution_count": null,
      "outputs": []
    },
    {
      "cell_type": "code",
      "metadata": {
        "id": "WBuvdyx0tYzB"
      },
      "source": [
        "vec_etr = np.vectorize(etr)\n",
        "vec_log = np.vectorize(logo)\n",
        "vec_etl = np.vectorize(etl)"
      ],
      "execution_count": null,
      "outputs": []
    },
    {
      "cell_type": "code",
      "metadata": {
        "id": "6hFHEZWItYvz"
      },
      "source": [
        "a = np.array(red)\n",
        "etrt=np.array(etr)\n",
        "distanciaT=np.array(distancia)"
      ],
      "execution_count": null,
      "outputs": []
    },
    {
      "cell_type": "code",
      "metadata": {
        "colab": {
          "base_uri": "https://localhost:8080/"
        },
        "id": "SskP65a0tYpt",
        "outputId": "06564e87-6926-4a05-a849-cfc4eaa10fae"
      },
      "source": [
        "print('xs',a)"
      ],
      "execution_count": null,
      "outputs": [
        {
          "output_type": "stream",
          "name": "stdout",
          "text": [
            "xs [0.028488   0.050043   0.052926   0.070086   0.062668   0.087589\n",
            " 0.078577   0.017227   0.042233   0.045295   0.03648    0.019599\n",
            " 0.100915   0.027342   0.074605   0.026489   0.049922   0.030604\n",
            " 0.01634564 0.0154363  0.030529   0.024525   0.023953   0.026038\n",
            " 0.048948   0.024314   0.015166   0.03572    0.048818   0.02198001\n",
            " 0.1244     0.036      0.016321   0.01673    0.0275     0.021793\n",
            " 0.01645    0.023208   0.036457   0.019264   0.017605   0.031528\n",
            " 0.023536   0.016743   0.05371    0.016991   0.027865   0.017173\n",
            " 0.029955   0.016559   0.015      0.0544     0.1561     0.0393\n",
            " 0.1241     0.1441     0.1299     0.0784     0.0583     0.0309\n",
            " 0.0406     0.0152     0.0224     0.016      0.0362     0.0173\n",
            " 0.0312     0.0221     0.016      0.0249     0.0303     0.0283\n",
            " 0.0152     0.0345     0.036      0.0248     0.0292     0.0163\n",
            " 0.0187     0.0195     0.0256     0.0337     0.0546     0.024\n",
            " 0.0336     0.0341     0.0261     0.0211     0.0321     0.0221\n",
            " 0.0334     0.0341     0.0421     0.0576     0.0205     0.0402\n",
            " 0.026      0.0259     0.0239     0.069      0.0651     0.0229\n",
            " 0.0315     0.0215     0.0255     0.0325     0.0843     0.0308\n",
            " 0.0327     0.0423     0.0684     0.0153     0.0233     0.0491\n",
            " 0.0425     0.0192     0.0308     0.0212     0.0277     0.0335\n",
            " 0.0208     0.0173     0.036      0.0233     0.0589     0.0583\n",
            " 0.0688     0.0321     0.0522     0.0308     0.0329     0.023\n",
            " 0.015      0.0321     0.0643     0.032      0.0209     0.0219\n",
            " 0.032      0.0151     0.0192     0.0266     0.0377     0.0247\n",
            " 0.0242     0.0366     0.0229     0.0312     0.015      0.0341\n",
            " 0.0251     0.0189     0.02980214 0.03213402 0.02756873 0.04696733\n",
            " 0.01831523 0.08004814 0.0241853  0.01502704 0.02839603 0.04497667\n",
            " 0.03291237 0.07535011 0.02037472 0.02297117 0.0268092  0.01793128\n",
            " 0.0483922  0.05668337 0.06386408 0.1462903  0.12927821 0.10271503\n",
            " 0.24250468 0.29840927 0.04371891 0.11304264 0.25647574 0.29558555\n",
            " 0.38035949 0.14566855 0.27345477 0.29751883 0.3789658  0.38041651\n",
            " 0.30175503 0.34834502 0.08568946 0.26058611 0.21554332 0.11762533\n",
            " 0.18221824 0.35750736 0.141788   0.26053348 0.23278111 0.15185789\n",
            " 0.09390863 0.28661871 0.19431651 0.14702514 0.21158698 0.18011978\n",
            " 0.26349103 0.19214998 0.33880261 0.11727736 0.14240465 0.16086185\n",
            " 0.28841834 0.1228289  0.26364795 0.12647316 0.17274223 0.16379589\n",
            " 0.24951105 0.2577403  0.10671234 0.15988994 0.20497969 0.24437888\n",
            " 0.24850813 0.22852847 0.08585464 0.06183576 0.27785342 0.2754402\n",
            " 0.15524733 0.33051245 0.36193431 0.33063463 0.14462109 0.38928879\n",
            " 0.17391006 0.3003127  0.1163485  0.21858519 0.11967154 0.1546321\n",
            " 0.40831909 0.17760069 0.25066763 0.25174019 0.39159921 0.12872674\n",
            " 0.39960133 0.30949265 0.1706284  0.27892468 0.30858087 0.18581245\n",
            " 0.06644031 0.31642984 0.25749789 0.29877744 0.27043444 0.27945473\n",
            " 0.29246976 0.18885318 0.26576248 0.12427353 0.18254891 0.31288336\n",
            " 0.30954734 0.08901943 0.40245962 0.20061172 0.32639648 0.2116296\n",
            " 0.17968564 0.0931494  0.30240162 0.10863827 0.08569612 0.20260868\n",
            " 0.19671607 0.12668799 0.21456826 0.32044699 0.21834745 0.18970657\n",
            " 0.09293682 0.37966229 0.2109384  0.3666029  0.42092682 0.25802827\n",
            " 0.1835684  0.21254877 0.36003421 0.39397448 0.11471262 0.14370591\n",
            " 0.25248606 0.38729711 0.34858386 0.25549062 0.21658282 0.43\n",
            " 0.62       0.57       0.3        0.38       0.43       0.24\n",
            " 0.44       0.5        0.97       0.479      0.83       0.416\n",
            " 0.581      0.45       0.579      0.32       0.657      0.43\n",
            " 0.472      0.374      0.18       0.55       0.592      0.172\n",
            " 0.526      0.763      0.58       0.43       0.45       0.656\n",
            " 0.495      0.49       0.57       0.388      0.45       0.48\n",
            " 0.615      0.4        0.655      0.498      0.465      0.453\n",
            " 0.425      0.514      0.423      0.859      0.936      0.528\n",
            " 0.978      0.885      0.815      0.698      0.568      0.711\n",
            " 0.3396     0.3965     0.812      0.799      0.882      0.833\n",
            " 0.874      0.772      0.178      0.26       0.186      0.269\n",
            " 0.215      0.543      0.75       0.64       0.43       0.64\n",
            " 0.497      0.44       0.355      0.78       0.54       0.86\n",
            " 0.468      0.84       0.96       0.8218     0.93       0.451\n",
            " 0.61       0.83       0.707      0.415      0.557      0.791\n",
            " 0.695      0.633      0.2486     0.532      0.331      0.346\n",
            " 0.961      0.613      0.3402     0.983      0.71       0.73\n",
            " 0.47       0.62       0.521      0.369      0.571      0.604\n",
            " 0.9271     0.285      0.2912     0.548      0.868      0.496\n",
            " 0.811      0.756      0.817      0.752      0.5516     0.3578\n",
            " 1.01       0.741      0.43       0.526      0.592      0.905\n",
            " 0.949      0.4607     0.3709     0.8        0.679      0.5817\n",
            " 0.55       0.81       0.95       0.3373     0.91       0.263\n",
            " 0.643      0.691      0.357      0.721      0.581      0.6268\n",
            " 0.818      0.4627     0.449      0.688      0.87       0.5043\n",
            " 0.591      0.426      0.329      0.583      0.519      0.401\n",
            " 0.205      0.34       0.436      0.363      0.436      0.309\n",
            " 0.342      0.159      0.332      0.469      0.239      0.352\n",
            " 0.612      0.631      0.645      0.429      0.497      0.539\n",
            " 0.561      0.41       0.412      0.599      0.619      0.422\n",
            " 0.54       0.401      0.218      0.633      0.383      0.302\n",
            " 0.34       0.51       0.421      0.399      0.493      0.687\n",
            " 0.687      0.495      0.603      0.421      0.348      0.213\n",
            " 0.344      0.271      0.564      0.274      0.181      0.582\n",
            " 0.68       0.401      0.416      0.286      0.562      0.266\n",
            " 0.314      0.581      0.463      0.341      0.631      0.522\n",
            " 0.368      0.309      0.528      0.216      0.284      0.508\n",
            " 0.781      0.613      0.278      0.477      0.95       1.057\n",
            " 0.816      0.455      1.02       1.14       0.854      1.37\n",
            " 0.975      0.97       0.74       1.39       0.46       1.02\n",
            " 1.12       1.23       1.19       0.839      1.01       0.521\n",
            " 0.475      0.95       1.3        1.305      0.216      0.735\n",
            " 1.14       1.307      1.265      0.67       0.64       1.34\n",
            " 0.84       0.935      0.953      1.124      0.552      0.671\n",
            " 0.511      1.03       1.192      1.092      0.974      1.11\n",
            " 1.35       0.85       1.241      1.414      1.188      1.017\n",
            " 1.315      0.821      1.215      0.623     ]\n"
          ]
        }
      ]
    },
    {
      "cell_type": "code",
      "metadata": {
        "colab": {
          "base_uri": "https://localhost:8080/"
        },
        "id": "ZOtgipMZtYgj",
        "outputId": "b1558c99-de50-4d7a-e9a1-2b3c991420e1"
      },
      "source": [
        "print('reds',red)"
      ],
      "execution_count": null,
      "outputs": [
        {
          "output_type": "stream",
          "name": "stdout",
          "text": [
            "reds [0.028488, 0.050043, 0.052926, 0.070086, 0.062668, 0.087589, 0.078577, 0.017227, 0.042233, 0.045295, 0.03648, 0.019599, 0.100915, 0.027342, 0.074605, 0.026489, 0.049922, 0.030604, 0.016345641, 0.0154363, 0.030529, 0.024525, 0.023953, 0.026038, 0.048948, 0.024314, 0.015166, 0.03572, 0.048818, 0.0219800059146, 0.1244, 0.036, 0.016321, 0.01673, 0.0275, 0.021793, 0.01645, 0.023208, 0.036457, 0.019264, 0.017605, 0.031528, 0.023536, 0.016743, 0.05371, 0.016991, 0.027865, 0.017173, 0.029955, 0.016559, 0.015, 0.0544, 0.1561, 0.0393, 0.1241, 0.1441, 0.1299, 0.0784, 0.0583, 0.0309, 0.0406, 0.0152, 0.0224, 0.016, 0.0362, 0.0173, 0.0312, 0.0221, 0.016, 0.0249, 0.0303, 0.0283, 0.0152, 0.0345, 0.036, 0.0248, 0.0292, 0.0163, 0.0187, 0.0195, 0.0256, 0.0337, 0.0546, 0.024, 0.0336, 0.0341, 0.0261, 0.0211, 0.0321, 0.0221, 0.0334, 0.0341, 0.0421, 0.0576, 0.0205, 0.0402, 0.026, 0.0259, 0.0239, 0.069, 0.0651, 0.0229, 0.0315, 0.0215, 0.0255, 0.0325, 0.0843, 0.0308, 0.0327, 0.0423, 0.0684, 0.0153, 0.0233, 0.0491, 0.0425, 0.0192, 0.0308, 0.0212, 0.0277, 0.0335, 0.0208, 0.0173, 0.036, 0.0233, 0.0589, 0.0583, 0.0688, 0.0321, 0.0522, 0.0308, 0.0329, 0.023, 0.015, 0.0321, 0.0643, 0.032, 0.0209, 0.0219, 0.032, 0.0151, 0.0192, 0.0266, 0.0377, 0.0247, 0.0242, 0.0366, 0.0229, 0.0312, 0.015, 0.0341, 0.0251, 0.0189, 0.029802136901, 0.0321340168614, 0.0275687259109, 0.0469673346156, 0.0183152320362, 0.0800481440021, 0.0241852990802, 0.0150270427632, 0.0283960268116, 0.0449766726113, 0.0329123710881, 0.0753501119815, 0.0203747245299, 0.0229711675782, 0.0268091974805, 0.0179312833626, 0.0483921953954, 0.0566833670752, 0.0638640836964, 0.146290296068, 0.129278206634, 0.102715033935, 0.242504680476, 0.29840927363, 0.0437189114895, 0.113042644637, 0.256475742725, 0.295585550063, 0.380359487336, 0.145668547261, 0.273454768884, 0.297518833561, 0.378965802039, 0.380416514286, 0.301755029535, 0.348345020835, 0.0856894593607, 0.260586108317, 0.215543320953, 0.117625328764, 0.18221823956, 0.357507357032, 0.141787999126, 0.260533476953, 0.232781107182, 0.151857894665, 0.0939086318905, 0.286618706522, 0.194316512142, 0.147025138268, 0.2115869815, 0.180119779968, 0.263491026592, 0.192149980044, 0.338802609134, 0.117277362889, 0.1424046524, 0.160861854636, 0.288418344585, 0.12282889997, 0.263647950642, 0.126473161901, 0.172742230556, 0.163795894987, 0.249511054792, 0.257740303509, 0.106712340103, 0.159889937748, 0.204979685349, 0.244378876797, 0.248508130676, 0.228528473881, 0.0858546441437, 0.0618357646938, 0.277853422619, 0.275440197435, 0.155247328221, 0.330512448683, 0.361934308832, 0.33063462833, 0.144621085972, 0.389288787688, 0.173910056566, 0.300312695802, 0.116348502599, 0.218585189041, 0.119671538006, 0.154632097239, 0.408319092164, 0.177600694977, 0.25066763111, 0.251740186424, 0.391599213441, 0.128726735467, 0.399601334976, 0.309492645411, 0.170628396749, 0.278924676328, 0.308580866071, 0.18581244671, 0.0664403123402, 0.316429844695, 0.257497888297, 0.298777444088, 0.270434442827, 0.27945473261, 0.292469756082, 0.188853175387, 0.265762479518, 0.124273528772, 0.182548913397, 0.312883364158, 0.309547337158, 0.0890194292939, 0.402459619216, 0.200611719928, 0.326396483203, 0.211629598493, 0.17968564077, 0.0931494026855, 0.30240162108, 0.108638265524, 0.0856961170652, 0.202608679897, 0.196716068579, 0.12668798909, 0.214568258658, 0.320446988861, 0.218347445403, 0.189706566951, 0.0929368181997, 0.379662293575, 0.210938395061, 0.366602898789, 0.420926821103, 0.258028270562, 0.183568404877, 0.212548765094, 0.360034211989, 0.393974478272, 0.11471262087, 0.143705907, 0.252486060029, 0.387297107465, 0.348583857544, 0.255490620022, 0.216582821954, 0.43, 0.62, 0.57, 0.3, 0.38, 0.43, 0.24, 0.44, 0.5, 0.97, 0.479, 0.83, 0.416, 0.581, 0.45, 0.579, 0.32, 0.657, 0.43, 0.472, 0.374, 0.18, 0.55, 0.592, 0.172, 0.526, 0.763, 0.58, 0.43, 0.45, 0.656, 0.495, 0.49, 0.57, 0.388, 0.45, 0.48, 0.615, 0.4, 0.655, 0.498, 0.465, 0.453, 0.425, 0.514, 0.423, 0.859, 0.936, 0.528, 0.978, 0.885, 0.815, 0.698, 0.568, 0.711, 0.3396, 0.3965, 0.812, 0.799, 0.882, 0.833, 0.874, 0.772, 0.178, 0.26, 0.186, 0.269, 0.215, 0.543, 0.75, 0.64, 0.43, 0.64, 0.497, 0.44, 0.355, 0.78, 0.54, 0.86, 0.468, 0.84, 0.96, 0.8218, 0.93, 0.451, 0.61, 0.83, 0.707, 0.415, 0.557, 0.791, 0.695, 0.633, 0.2486, 0.532, 0.331, 0.346, 0.961, 0.613, 0.3402, 0.983, 0.71, 0.73, 0.47, 0.62, 0.521, 0.369, 0.571, 0.604, 0.9271, 0.285, 0.2912, 0.548, 0.868, 0.496, 0.811, 0.756, 0.817, 0.752, 0.5516, 0.3578, 1.01, 0.741, 0.43, 0.526, 0.592, 0.905, 0.949, 0.4607, 0.3709, 0.8, 0.679, 0.5817, 0.55, 0.81, 0.95, 0.3373, 0.91, 0.263, 0.643, 0.691, 0.357, 0.721, 0.581, 0.6268, 0.818, 0.4627, 0.449, 0.688, 0.87, 0.5043, 0.591, 0.426, 0.329, 0.583, 0.519, 0.401, 0.205, 0.34, 0.436, 0.363, 0.436, 0.309, 0.342, 0.159, 0.332, 0.469, 0.239, 0.352, 0.612, 0.631, 0.645, 0.429, 0.497, 0.539, 0.561, 0.41, 0.412, 0.599, 0.619, 0.422, 0.54, 0.401, 0.218, 0.633, 0.383, 0.302, 0.34, 0.51, 0.421, 0.399, 0.493, 0.687, 0.687, 0.495, 0.603, 0.421, 0.348, 0.213, 0.344, 0.271, 0.564, 0.274, 0.181, 0.582, 0.68, 0.401, 0.416, 0.286, 0.562, 0.266, 0.314, 0.581, 0.463, 0.341, 0.631, 0.522, 0.368, 0.309, 0.528, 0.216, 0.284, 0.508, 0.781, 0.613, 0.278, 0.477, 0.95, 1.057, 0.816, 0.455, 1.02, 1.14, 0.854, 1.37, 0.975, 0.97, 0.74, 1.39, 0.46, 1.02, 1.12, 1.23, 1.19, 0.839, 1.01, 0.521, 0.475, 0.95, 1.3, 1.305, 0.216, 0.735, 1.14, 1.307, 1.265, 0.67, 0.64, 1.34, 0.84, 0.935, 0.953, 1.124, 0.552, 0.671, 0.511, 1.03, 1.192, 1.092, 0.974, 1.11, 1.35, 0.85, 1.241, 1.414, 1.188, 1.017, 1.315, 0.821, 1.215, 0.623]\n"
          ]
        }
      ]
    },
    {
      "cell_type": "code",
      "metadata": {
        "colab": {
          "base_uri": "https://localhost:8080/"
        },
        "id": "s5J9O8GTuX9I",
        "outputId": "6795092b-3408-4a52-a366-2a2c6b1f901a"
      },
      "source": [
        "print('distanciaposo',x)"
      ],
      "execution_count": null,
      "outputs": [
        {
          "output_type": "stream",
          "name": "stdout",
          "text": [
            "distanciaposo [0.014      0.01474337 0.01548674 ... 1.49851326 1.49925663 1.5       ]\n"
          ]
        }
      ]
    },
    {
      "cell_type": "code",
      "metadata": {
        "colab": {
          "base_uri": "https://localhost:8080/"
        },
        "id": "I1Q03LqEuX3X",
        "outputId": "abee6c11-fec6-48e1-f8ff-54345cab9bf6"
      },
      "source": [
        "datos=vec_etr(x)#distancia  para modeloen terminos de x\n",
        "datosl=vec_etl(x)#distancia  para lcdmen terminos de x\n",
        "xlog=vec_log(x)\n",
        "datoz=vec_etr(red)#distancia  para modeloen terminos de z\n",
        "print(datos)"
      ],
      "execution_count": null,
      "outputs": [
        {
          "output_type": "stream",
          "name": "stdout",
          "text": [
            "[33.76653    33.88009856 33.98813831 ... 45.04015381 45.04148294\n",
            " 45.0428114 ]\n"
          ]
        }
      ]
    },
    {
      "cell_type": "code",
      "metadata": {
        "colab": {
          "base_uri": "https://localhost:8080/"
        },
        "id": "XLuDBMN_uXx1",
        "outputId": "7cbae29c-d724-488e-fd5b-3df38b7e7ebc"
      },
      "source": [
        "datoss=datos\n",
        "np.array(datoss).tolist()"
      ],
      "execution_count": null,
      "outputs": [
        {
          "output_type": "execute_result",
          "data": {
            "text/plain": [
              "[33.766530001205766,\n",
              " 33.880098555277115,\n",
              " 33.98813831410404,\n",
              " 34.091167783453784,\n",
              " 34.18963576855142,\n",
              " 34.283933332908774,\n",
              " 34.37440329750959,\n",
              " 34.461347863508834,\n",
              " 34.54503478641237,\n",
              " 34.62570241998827,\n",
              " 34.70356386945814,\n",
              " 34.77881043630115,\n",
              " 34.851614494891436,\n",
              " 34.92213190983929,\n",
              " 34.99050407931969,\n",
              " 35.05685967174994,\n",
              " 35.12131610943537,\n",
              " 35.18398084217305,\n",
              " 35.24495244551645,\n",
              " 35.30432157189345,\n",
              " 35.36217177761954,\n",
              " 35.41858024474517,\n",
              " 35.47361841338813,\n",
              " 35.527352537549746,\n",
              " 35.57984417526361,\n",
              " 35.63115062217251,\n",
              " 35.681325296192114,\n",
              " 35.73041807973746,\n",
              " 35.77847562500918,\n",
              " 35.82554162702347,\n",
              " 35.871657068391016,\n",
              " 35.91686043928182,\n",
              " 35.96118793553448,\n",
              " 36.0046736374653,\n",
              " 36.04734967159026,\n",
              " 36.08924635718273,\n",
              " 36.130392339341874,\n",
              " 36.170814710034605,\n",
              " 36.21053911839243,\n",
              " 36.24958987138779,\n",
              " 36.287990025879616,\n",
              " 36.3257614729011,\n",
              " 36.36292501496122,\n",
              " 36.3995004370437,\n",
              " 36.43550657190991,\n",
              " 36.47096136024582,\n",
              " 36.50588190613351,\n",
              " 36.54028452827699,\n",
              " 36.5741848073663,\n",
              " 36.607597629924,\n",
              " 36.64053722894309,\n",
              " 36.673017221593945,\n",
              " 36.70505064425036,\n",
              " 36.7366499850603,\n",
              " 36.767827214264884,\n",
              " 36.79859381245008,\n",
              " 36.828960796897796,\n",
              " 36.85893874618785,\n",
              " 36.88853782318838,\n",
              " 36.917767796559545,\n",
              " 36.94663806088467,\n",
              " 36.9751576555324,\n",
              " 37.00333528234485,\n",
              " 37.031179322238195,\n",
              " 37.058697850795156,\n",
              " 37.08589865292176,\n",
              " 37.11278923663513,\n",
              " 37.139376846043284,\n",
              " 37.165668473573206,\n",
              " 37.19167087149876,\n",
              " 37.21739056281602,\n",
              " 37.242833851509914,\n",
              " 37.26800683225252,\n",
              " 37.29291539957041,\n",
              " 37.31756525651558,\n",
              " 37.34196192287176,\n",
              " 37.3661107429258,\n",
              " 37.390016892831426,\n",
              " 37.41368538759073,\n",
              " 37.437121087677106,\n",
              " 37.46032870532126,\n",
              " 37.48331281048092,\n",
              " 37.50607783651298,\n",
              " 37.528628085565785,\n",
              " 37.55096773370786,\n",
              " 37.573100835808575,\n",
              " 37.59503133018483,\n",
              " 37.61676304302714,\n",
              " 37.63829969261767,\n",
              " 37.65964489335168,\n",
              " 37.68080215957341,\n",
              " 37.70177490923653,\n",
              " 37.7225664673987,\n",
              " 37.74318006955913,\n",
              " 37.76361886484767,\n",
              " 37.78388591907316,\n",
              " 37.8039842176384,\n",
              " 37.82391666832886,\n",
              " 37.843686103981454,\n",
              " 37.86329528503957,\n",
              " 37.882746902000186,\n",
              " 37.90204357775844,\n",
              " 37.921187869854755,\n",
              " 37.94018227262936,\n",
              " 37.959029219288766,\n",
              " 37.97773108388847,\n",
              " 37.9962901832359,\n",
              " 38.01470877871742,\n",
              " 38.03298907805311,\n",
              " 38.05113323698256,\n",
              " 38.06914336088498,\n",
              " 38.087021506336754,\n",
              " 38.10476968260914,\n",
              " 38.12238985310901,\n",
              " 38.139883936765166,\n",
              " 38.157253809362594,\n",
              " 38.17450130482713,\n",
              " 38.191628216462654,\n",
              " 38.20863629814282,\n",
              " 38.22552726545953,\n",
              " 38.24230279682982,\n",
              " 38.258964534562985,\n",
              " 38.2755140858898,\n",
              " 38.29195302395523,\n",
              " 38.308282888776276,\n",
              " 38.324505188166476,\n",
              " 38.34062139862829,\n",
              " 38.35663296621486,\n",
              " 38.37254130736224,\n",
              " 38.3883478096935,\n",
              " 38.40405383279558,\n",
              " 38.419660708970284,\n",
              " 38.43516974396016,\n",
              " 38.45058221765048,\n",
              " 38.465899384748184,\n",
              " 38.48112247543861,\n",
              " 38.49625269602102,\n",
              " 38.51129122952364,\n",
              " 38.526239236299034,\n",
              " 38.54109785460056,\n",
              " 38.555868201140576,\n",
              " 38.57055137163125,\n",
              " 38.58514844130833,\n",
              " 38.59966046543885,\n",
              " 38.61408847981309,\n",
              " 38.62843350122152,\n",
              " 38.64269652791721,\n",
              " 38.65687854006427,\n",
              " 38.670980500172824,\n",
              " 38.685003353520955,\n",
              " 38.69894802856412,\n",
              " 38.71281543733254,\n",
              " 38.72660647581679,\n",
              " 38.74032202434229,\n",
              " 38.75396294793285,\n",
              " 38.76753009666368,\n",
              " 38.7810243060044,\n",
              " 38.794446397152186,\n",
              " 38.807797177355454,\n",
              " 38.82107744022848,\n",
              " 38.83428796605716,\n",
              " 38.847429522096235,\n",
              " 38.860502862858326,\n",
              " 38.87350873039493,\n",
              " 38.886447854569774,\n",
              " 38.89932095332467,\n",
              " 38.91212873293817,\n",
              " 38.92487188827728,\n",
              " 38.93755110304234,\n",
              " 38.95016705000546,\n",
              " 38.96272039124254,\n",
              " 38.97521177835924,\n",
              " 38.987641852710965,\n",
              " 39.000011245617095,\n",
              " 39.0123205785697,\n",
              " 39.0245704634368,\n",
              " 39.03676150266041,\n",
              " 39.04889428944955,\n",
              " 39.060969407968294,\n",
              " 39.072987433519074,\n",
              " 39.08494893272135,\n",
              " 39.09685446368587,\n",
              " 39.10870457618442,\n",
              " 39.12049981181557,\n",
              " 39.13224070416612,\n",
              " 39.14392777896873,\n",
              " 39.15556155425561,\n",
              " 39.1671425405085,\n",
              " 39.17867124080499,\n",
              " 39.190148150961335,\n",
              " 39.20157375967184,\n",
              " 39.212948548644924,\n",
              " 39.224272992735905,\n",
              " 39.23554756007668,\n",
              " 39.2467727122024,\n",
              " 39.257948904175024,\n",
              " 39.26907658470418,\n",
              " 39.28015619626509,\n",
              " 39.29118817521379,\n",
              " 39.30217295189976,\n",
              " 39.31311095077592,\n",
              " 39.3240025905061,\n",
              " 39.33484828407012,\n",
              " 39.34564843886652,\n",
              " 39.356403456812856,\n",
              " 39.367113734443926,\n",
              " 39.37777966300763,\n",
              " 39.38840162855883,\n",
              " 39.39898001205111,\n",
              " 39.40951518942644,\n",
              " 39.42000753170301,\n",
              " 39.43045740506101,\n",
              " 39.440865170926685,\n",
              " 39.45123118605443,\n",
              " 39.46155580260725,\n",
              " 39.4718393682354,\n",
              " 39.482082226153416,\n",
              " 39.49228471521543,\n",
              " 39.50244716998902,\n",
              " 39.51256992082732,\n",
              " 39.52265329393981,\n",
              " 39.532697611461494,\n",
              " 39.542703191520694,\n",
              " 39.552670348305426,\n",
              " 39.562599392128405,\n",
              " 39.572490629490744,\n",
              " 39.58234436314429,\n",
              " 39.592160892152734,\n",
              " 39.60194051195148,\n",
              " 39.611683514406295,\n",
              " 39.621390187870766,\n",
              " 39.63106081724261,\n",
              " 39.64069568401891,\n",
              " 39.65029506635014,\n",
              " 39.65985923909323,\n",
              " 39.66938847386355,\n",
              " 39.678883039085825,\n",
              " 39.68834320004413,\n",
              " 39.69776921893084,\n",
              " 39.70716135489468,\n",
              " 39.71651986408783,\n",
              " 39.72584499971208,\n",
              " 39.73513701206418,\n",
              " 39.74439614858026,\n",
              " 39.753622653879404,\n",
              " 39.76281676980645,\n",
              " 39.771978735473915,\n",
              " 39.781108787303175,\n",
              " 39.79020715906484,\n",
              " 39.799274081918426,\n",
              " 39.8083097844512,\n",
              " 39.81731449271639,\n",
              " 39.826288430270665,\n",
              " 39.83523181821089,\n",
              " 39.84414487521024,\n",
              " 39.853027817553624,\n",
              " 39.86188085917253,\n",
              " 39.87070421167914,\n",
              " 39.8794980843999,\n",
              " 39.88826268440847,\n",
              " 39.89699821655806,\n",
              " 39.90570488351322,\n",
              " 39.91438288578104,\n",
              " 39.923032421741766,\n",
              " 39.93165368767896,\n",
              " 39.94024687780906,\n",
              " 39.94881218431042,\n",
              " 39.95734979735187,\n",
              " 39.96585990512077,\n",
              " 39.97434269385057,\n",
              " 39.98279834784789,\n",
              " 39.991227049519125,\n",
              " 39.999628979396626,\n",
              " 40.008004316164374,\n",
              " 40.0163532366833,\n",
              " 40.024675916016065,\n",
              " 40.03297252745152,\n",
              " 40.04124324252868,\n",
              " 40.049488231060344,\n",
              " 40.057707661156286,\n",
              " 40.06590169924606,\n",
              " 40.07407051010145,\n",
              " 40.0822142568585,\n",
              " 40.090333101039235,\n",
              " 40.09842720257297,\n",
              " 40.10649671981732,\n",
              " 40.11454180957882,\n",
              " 40.12256262713319,\n",
              " 40.130559326245375,\n",
              " 40.13853205918914,\n",
              " 40.14648097676639,\n",
              " 40.154406228326216,\n",
              " 40.16230796178357,\n",
              " 40.17018632363768,\n",
              " 40.178041458990165,\n",
              " 40.18587351156286,\n",
              " 40.19368262371535,\n",
              " 40.201468936462206,\n",
              " 40.209232589490036,\n",
              " 40.216973721174135,\n",
              " 40.22469246859498,\n",
              " 40.232388967554435,\n",
              " 40.24006335259167,\n",
              " 40.24771575699887,\n",
              " 40.255346312836735,\n",
              " 40.26295515094961,\n",
              " 40.27054240098053,\n",
              " 40.278108191385975,\n",
              " 40.28565264945036,\n",
              " 40.293175901300366,\n",
              " 40.300678071918995,\n",
              " 40.30815928515949,\n",
              " 40.315619663758966,\n",
              " 40.32305932935185,\n",
              " 40.33047840248318,\n",
              " 40.337877002621624,\n",
              " 40.345255248172364,\n",
              " 40.35261325648973,\n",
              " 40.35995114388974,\n",
              " 40.3672690256623,\n",
              " 40.374567016083446,\n",
              " 40.38184522842714,\n",
              " 40.389103774977144,\n",
              " 40.396342767038526,\n",
              " 40.40356231494915,\n",
              " 40.41076252809086,\n",
              " 40.4179435149006,\n",
              " 40.425105382881355,\n",
              " 40.432248238612914,\n",
              " 40.43937218776245,\n",
              " 40.44647733509503,\n",
              " 40.45356378448392,\n",
              " 40.46063163892071,\n",
              " 40.46768100052539,\n",
              " 40.4747119705562,\n",
              " 40.48172464941937,\n",
              " 40.48871913667874,\n",
              " 40.495695531065195,\n",
              " 40.502653930486034,\n",
              " 40.50959443203415,\n",
              " 40.51651713199711,\n",
              " 40.52342212586613,\n",
              " 40.530309508344835,\n",
              " 40.53717937335805,\n",
              " 40.544031814060304,\n",
              " 40.550866922844335,\n",
              " 40.557684791349445,\n",
              " 40.564485510469694,\n",
              " 40.57126917036207,\n",
              " 40.57803586045448,\n",
              " 40.58478566945362,\n",
              " 40.591518685352845,\n",
              " 40.59823499543979,\n",
              " 40.60493468630398,\n",
              " 40.611617843844336,\n",
              " 40.618284553276524,\n",
              " 40.62493489914028,\n",
              " 40.63156896530656,\n",
              " 40.638186834984666,\n",
              " 40.64478859072923,\n",
              " 40.65137431444711,\n",
              " 40.65794408740425,\n",
              " 40.66449799023235,\n",
              " 40.671036102935545,\n",
              " 40.67755850489693,\n",
              " 40.684065274885064,\n",
              " 40.690556491060306,\n",
              " 40.69703223098115,\n",
              " 40.70349257161043,\n",
              " 40.70993758932144,\n",
              " 40.71636735990404,\n",
              " 40.72278195857058,\n",
              " 40.72918145996184,\n",
              " 40.73556593815287,\n",
              " 40.74193546665869,\n",
              " 40.74829011844004,\n",
              " 40.75462996590893,\n",
              " 40.76095508093424,\n",
              " 40.76726553484711,\n",
              " 40.77356139844643,\n",
              " 40.77984274200409,\n",
              " 40.78610963527031,\n",
              " 40.79236214747878,\n",
              " 40.79860034735185,\n",
              " 40.8048243031056,\n",
              " 40.81103408245477,\n",
              " 40.817229752617806,\n",
              " 40.8234113803217,\n",
              " 40.8295790318068,\n",
              " 40.83573277283161,\n",
              " 40.84187266867748,\n",
              " 40.84799878415326,\n",
              " 40.85411118359988,\n",
              " 40.86020993089492,\n",
              " 40.866295089457054,\n",
              " 40.87236672225052,\n",
              " 40.87842489178946,\n",
              " 40.88446966014225,\n",
              " 40.89050108893581,\n",
              " 40.89651923935974,\n",
              " 40.90252417217059,\n",
              " 40.908515947695896,\n",
              " 40.91449462583831,\n",
              " 40.92046026607957,\n",
              " 40.926412927484535,\n",
              " 40.93235266870505,\n",
              " 40.93827954798387,\n",
              " 40.94419362315847,\n",
              " 40.95009495166487,\n",
              " 40.95598359054135,\n",
              " 40.96185959643217,\n",
              " 40.967723025591205,\n",
              " 40.973573933885596,\n",
              " 40.97941237679932,\n",
              " 40.985238409436676,\n",
              " 40.99105208652586,\n",
              " 40.99685346242236,\n",
              " 41.00264259111238,\n",
              " 41.0084195262162,\n",
              " 41.014184320991575,\n",
              " 41.019937028336955,\n",
              " 41.02567770079479,\n",
              " 41.03140639055473,\n",
              " 41.037123149456846,\n",
              " 41.04282802899474,\n",
              " 41.04852108031869,\n",
              " 41.05420235423871,\n",
              " 41.05987190122761,\n",
              " 41.06552977142402,\n",
              " 41.07117601463531,\n",
              " 41.076810680340614,\n",
              " 41.082433817693676,\n",
              " 41.08804547552579,\n",
              " 41.09364570234858,\n",
              " 41.09923454635687,\n",
              " 41.10481205543145,\n",
              " 41.11037827714185,\n",
              " 41.11593325874899,\n",
              " 41.12147704720798,\n",
              " 41.12700968917074,\n",
              " 41.132531230988604,\n",
              " 41.13804171871496,\n",
              " 41.14354119810784,\n",
              " 41.149029714632455,\n",
              " 41.15450731346371,\n",
              " 41.159974039488716,\n",
              " 41.16542993730924,\n",
              " 41.17087505124419,\n",
              " 41.17630942533198,\n",
              " 41.18173310333297,\n",
              " 41.18714612873177,\n",
              " 41.192548544739644,\n",
              " 41.19794039429681,\n",
              " 41.203321720074676,\n",
              " 41.2086925644782,\n",
              " 41.21405296964805,\n",
              " 41.21940297746287,\n",
              " 41.22474262954147,\n",
              " 41.23007196724495,\n",
              " 41.23539103167897,\n",
              " 41.24069986369571,\n",
              " 41.24599850389614,\n",
              " 41.25128699263197,\n",
              " 41.256565370007806,\n",
              " 41.26183367588314,\n",
              " 41.2670919498744,\n",
              " 41.27234023135691,\n",
              " 41.2775785594669,\n",
              " 41.28280697310347,\n",
              " 41.288025510930495,\n",
              " 41.29323421137856,\n",
              " 41.298433112646876,\n",
              " 41.303622252705125,\n",
              " 41.30880166929535,\n",
              " 41.31397139993376,\n",
              " 41.319131481912606,\n",
              " 41.32428195230193,\n",
              " 41.32942284795139,\n",
              " 41.33455420549201,\n",
              " 41.33967606133791,\n",
              " 41.3447884516881,\n",
              " 41.34989141252814,\n",
              " 41.35498497963184,\n",
              " 41.36006918856296,\n",
              " 41.36514407467689,\n",
              " 41.370209673122275,\n",
              " 41.37526601884262,\n",
              " 41.38031314657797,\n",
              " 41.38535109086645,\n",
              " 41.39037988604588,\n",
              " 41.39539956625534,\n",
              " 41.40041016543673,\n",
              " 41.40541171733628,\n",
              " 41.41040425550608,\n",
              " 41.415387813305635,\n",
              " 41.42036242390328,\n",
              " 41.42532812027772,\n",
              " 41.430284935219476,\n",
              " 41.43523290133231,\n",
              " 41.44017205103472,\n",
              " 41.445102416561284,\n",
              " 41.45002402996415,\n",
              " 41.45493692311436,\n",
              " 41.45984112770327,\n",
              " 41.46473667524394,\n",
              " 41.46962359707241,\n",
              " 41.47450192434914,\n",
              " 41.479371688060276,\n",
              " 41.48423291901897,\n",
              " 41.48908564786672,\n",
              " 41.49392990507464,\n",
              " 41.49876572094471,\n",
              " 41.50359312561113,\n",
              " 41.508412149041476,\n",
              " 41.51322282103802,\n",
              " 41.518025171238904,\n",
              " 41.52281922911942,\n",
              " 41.527605023993175,\n",
              " 41.532382585013295,\n",
              " 41.53715194117363,\n",
              " 41.541913121309946,\n",
              " 41.54666615410104,\n",
              " 41.55141106806991,\n",
              " 41.556147891584956,\n",
              " 41.56087665286102,\n",
              " 41.56559737996058,\n",
              " 41.570310100794856,\n",
              " 41.57501484312486,\n",
              " 41.579711634562564,\n",
              " 41.58440050257191,\n",
              " 41.58908147446995,\n",
              " 41.593754577427845,\n",
              " 41.59841983847197,\n",
              " 41.603077284484925,\n",
              " 41.60772694220659,\n",
              " 41.61236883823514,\n",
              " 41.61700299902806,\n",
              " 41.62162945090316,\n",
              " 41.62624822003956,\n",
              " 41.63085933247868,\n",
              " 41.63546281412525,\n",
              " 41.64005869074821,\n",
              " 41.64464698798179,\n",
              " 41.64922773132631,\n",
              " 41.653800946149275,\n",
              " 41.65836665768622,\n",
              " 41.662924891041655,\n",
              " 41.667475671190005,\n",
              " 41.67201902297653,\n",
              " 41.67655497111816,\n",
              " 41.6810835402045,\n",
              " 41.68560475469863,\n",
              " 41.69011863893803,\n",
              " 41.69462521713544,\n",
              " 41.699124513379715,\n",
              " 41.7036165516367,\n",
              " 41.708101355750095,\n",
              " 41.712578949442246,\n",
              " 41.71704935631503,\n",
              " 41.72151259985067,\n",
              " 41.72596870341254,\n",
              " 41.73041769024601,\n",
              " 41.734859583479206,\n",
              " 41.73929440612389,\n",
              " 41.74372218107615,\n",
              " 41.74814293111728,\n",
              " 41.752556678914495,\n",
              " 41.75696344702175,\n",
              " 41.761363257880475,\n",
              " 41.765756133820354,\n",
              " 41.770142097060074,\n",
              " 41.77452116970806,\n",
              " 41.77889337376324,\n",
              " 41.78325873111576,\n",
              " 41.787617263547716,\n",
              " 41.7919689927339,\n",
              " 41.79631394024248,\n",
              " 41.80065212753573,\n",
              " 41.804983575970724,\n",
              " 41.80930830680006,\n",
              " 41.81362634117254,\n",
              " 41.817937700133825,\n",
              " 41.82224240462716,\n",
              " 41.826540475494056,\n",
              " 41.830831933474904,\n",
              " 41.835116799209686,\n",
              " 41.839395093238636,\n",
              " 41.84366683600285,\n",
              " 41.847932047845,\n",
              " 41.852190749009914,\n",
              " 41.85644295964524,\n",
              " 41.86068869980211,\n",
              " 41.86492798943571,\n",
              " 41.86916084840592,\n",
              " 41.873387296477965,\n",
              " 41.87760735332299,\n",
              " 41.881821038518694,\n",
              " 41.886028371549884,\n",
              " 41.89022937180913,\n",
              " 41.89442405859734,\n",
              " 41.89861245112432,\n",
              " 41.9027945685094,\n",
              " 41.906970429781964,\n",
              " 41.91114005388208,\n",
              " 41.91530345966101,\n",
              " 41.91946066588183,\n",
              " 41.92361169121994,\n",
              " 41.92775655426365,\n",
              " 41.931895273514755,\n",
              " 41.936027867389,\n",
              " 41.9401543542167,\n",
              " 41.94427475224326,\n",
              " 41.94838907962968,\n",
              " 41.952497354453115,\n",
              " 41.956599594707384,\n",
              " 41.96069581830353,\n",
              " 41.96478604307025,\n",
              " 41.9688702867545,\n",
              " 41.97294856702196,\n",
              " 41.97702090145755,\n",
              " 41.981087307565915,\n",
              " 41.985147802771934,\n",
              " 41.989202404421235,\n",
              " 41.99325112978065,\n",
              " 41.99729399603871,\n",
              " 42.00133102030614,\n",
              " 42.005362219616316,\n",
              " 42.00938761092577,\n",
              " 42.01340721111464,\n",
              " 42.01742103698712,\n",
              " 42.02142910527197,\n",
              " 42.02543143262294,\n",
              " 42.029428035619226,\n",
              " 42.03341893076596,\n",
              " 42.0374041344946,\n",
              " 42.041383663163444,\n",
              " 42.045357533058024,\n",
              " 42.04932576039154,\n",
              " 42.05328836130535,\n",
              " 42.057245351869355,\n",
              " 42.06119674808243,\n",
              " 42.06514256587289,\n",
              " 42.06908282109886,\n",
              " 42.07301752954873,\n",
              " 42.07694670694157,\n",
              " 42.08087036892752,\n",
              " 42.08478853108823,\n",
              " 42.08870120893725,\n",
              " 42.092608417920445,\n",
              " 42.09651017341638,\n",
              " 42.10040649073672,\n",
              " 42.10429738512665,\n",
              " 42.10818287176524,\n",
              " 42.11206296576586,\n",
              " 42.11593768217652,\n",
              " 42.11980703598033,\n",
              " 42.12367104209579,\n",
              " 42.12752971537725,\n",
              " 42.13138307061524,\n",
              " 42.135231122536844,\n",
              " 42.139073885806084,\n",
              " 42.14291137502427,\n",
              " 42.1467436047304,\n",
              " 42.15057058940148,\n",
              " 42.15439234345291,\n",
              " 42.15820888123882,\n",
              " 42.16202021705243,\n",
              " 42.165826365126435,\n",
              " 42.169627339633294,\n",
              " 42.17342315468563,\n",
              " 42.17721382433653,\n",
              " 42.180999362579925,\n",
              " 42.184779783350905,\n",
              " 42.18855510052606,\n",
              " 42.192325327923804,\n",
              " 42.19609047930475,\n",
              " 42.19985056837197,\n",
              " 42.2036056087714,\n",
              " 42.207355614092066,\n",
              " 42.21110059786652,\n",
              " 42.21484057357107,\n",
              " 42.21857555462614,\n",
              " 42.22230555439658,\n",
              " 42.22603058619197,\n",
              " 42.229750663266934,\n",
              " 42.233465798821456,\n",
              " 42.23717600600118,\n",
              " 42.240881297897715,\n",
              " 42.24458168754893,\n",
              " 42.248277187939266,\n",
              " 42.251967812000046,\n",
              " 42.255653572609724,\n",
              " 42.25933448259423,\n",
              " 42.26301055472723,\n",
              " 42.266681801730435,\n",
              " 42.270348236273875,\n",
              " 42.27400987097619,\n",
              " 42.2776667184049,\n",
              " 42.281318791076735,\n",
              " 42.28496610145784,\n",
              " 42.288608661964105,\n",
              " 42.292246484961446,\n",
              " 42.295879582766034,\n",
              " 42.299507967644615,\n",
              " 42.30313165181474,\n",
              " 42.30675064744507,\n",
              " 42.310364966655605,\n",
              " 42.313974621518,\n",
              " 42.31757962405575,\n",
              " 42.32117998624455,\n",
              " 42.32477572001246,\n",
              " 42.32836683724022,\n",
              " 42.331953349761484,\n",
              " 42.33553526936309,\n",
              " 42.339112607785296,\n",
              " 42.34268537672203,\n",
              " 42.34625358782115,\n",
              " 42.34981725268469,\n",
              " 42.35337638286909,\n",
              " 42.35693098988547,\n",
              " 42.36048108519984,\n",
              " 42.36402668023335,\n",
              " 42.36756778636254,\n",
              " 42.371104414919586,\n",
              " 42.37463657719249,\n",
              " 42.37816428442535,\n",
              " 42.381687547818615,\n",
              " 42.38520637852925,\n",
              " 42.38872078767103,\n",
              " 42.392230786314734,\n",
              " 42.39573638548838,\n",
              " 42.39923759617742,\n",
              " 42.402734429325044,\n",
              " 42.40622689583231,\n",
              " 42.40971500655842,\n",
              " 42.413198772320925,\n",
              " 42.41667820389593,\n",
              " 42.42015331201832,\n",
              " 42.423624107382,\n",
              " 42.42709060064006,\n",
              " 42.430552802405,\n",
              " 42.43401072324901,\n",
              " 42.437464373704046,\n",
              " 42.44091376426217,\n",
              " 42.44435890537566,\n",
              " 42.44779980745727,\n",
              " 42.45123648088044,\n",
              " 42.45466893597943,\n",
              " 42.458097183049595,\n",
              " 42.461521232347565,\n",
              " 42.464941094091415,\n",
              " 42.46835677846089,\n",
              " 42.471768295597606,\n",
              " 42.47517565560521,\n",
              " 42.478578868549626,\n",
              " 42.48197794445918,\n",
              " 42.485372893324865,\n",
              " 42.488763725100455,\n",
              " 42.49215044970276,\n",
              " 42.49553307701179,\n",
              " 42.49891161687091,\n",
              " 42.50228607908709,\n",
              " 42.505656473431,\n",
              " 42.509022809637294,\n",
              " 42.512385097404696,\n",
              " 42.515743346396256,\n",
              " 42.51909756623948,\n",
              " 42.52244776652655,\n",
              " 42.52579395681444,\n",
              " 42.52913614662515,\n",
              " 42.53247434544586,\n",
              " 42.5358085627291,\n",
              " 42.53913880789292,\n",
              " 42.54246509032107,\n",
              " 42.545787419363165,\n",
              " 42.54910580433487,\n",
              " 42.55242025451802,\n",
              " 42.555730779160854,\n",
              " 42.55903738747813,\n",
              " 42.56234008865131,\n",
              " 42.56563889182874,\n",
              " 42.56893380612577,\n",
              " 42.57222484062495,\n",
              " 42.57551200437618,\n",
              " 42.57879530639689,\n",
              " 42.58207475567215,\n",
              " 42.585350361154894,\n",
              " 42.588622131766,\n",
              " 42.59189007639452,\n",
              " 42.595154203897806,\n",
              " 42.598414523101624,\n",
              " 42.60167104280039,\n",
              " 42.60492377175724,\n",
              " 42.60817271870424,\n",
              " 42.61141789234251,\n",
              " 42.61465930134237,\n",
              " 42.6178969543435,\n",
              " 42.62113085995509,\n",
              " 42.62436102675596,\n",
              " 42.62758746329477,\n",
              " 42.63081017809007,\n",
              " 42.63402917963053,\n",
              " 42.637244476375024,\n",
              " 42.64045607675283,\n",
              " 42.6436639891637,\n",
              " 42.64686822197807,\n",
              " 42.65006878353715,\n",
              " 42.65326568215309,\n",
              " 42.65645892610912,\n",
              " 42.659648523659655,\n",
              " 42.662834483030466,\n",
              " 42.6660168124188,\n",
              " 42.669195519993536,\n",
              " 42.67237061389527,\n",
              " 42.675542102236506,\n",
              " 42.678709993101734,\n",
              " 42.681874294547626,\n",
              " 42.685035014603116,\n",
              " 42.68819216126951,\n",
              " 42.69134574252071,\n",
              " 42.694495766303234,\n",
              " 42.697642240536425,\n",
              " 42.70078517311251,\n",
              " 42.70392457189679,\n",
              " 42.707060444727745,\n",
              " 42.710192799417115,\n",
              " 42.713321643750085,\n",
              " 42.716446985485376,\n",
              " 42.71956883235538,\n",
              " 42.722687192066275,\n",
              " 42.72580207229813,\n",
              " 42.728913480705074,\n",
              " 42.73202142491537,\n",
              " 42.73512591253153,\n",
              " 42.7382269511305,\n",
              " 42.74132454826368,\n",
              " 42.744418711457115,\n",
              " 42.74750944821159,\n",
              " 42.750596766002744,\n",
              " 42.75368067228116,\n",
              " 42.756761174472544,\n",
              " 42.759838279977764,\n",
              " 42.762911996173,\n",
              " 42.765982330409884,\n",
              " 42.76904929001553,\n",
              " 42.77211288229275,\n",
              " 42.77517311452008,\n",
              " 42.77822999395192,\n",
              " 42.78128352781865,\n",
              " 42.78433372332674,\n",
              " 42.787380587658824,\n",
              " 42.79042412797387,\n",
              " 42.79346435140722,\n",
              " 42.79650126507074,\n",
              " 42.7995348760529,\n",
              " 42.80256519141891,\n",
              " 42.80559221821078,\n",
              " 42.80861596344747,\n",
              " 42.811636434124964,\n",
              " 42.81465363721637,\n",
              " 42.81766757967204,\n",
              " 42.82067826841967,\n",
              " 42.82368571036437,\n",
              " 42.82668991238883,\n",
              " 42.82969088135334,\n",
              " 42.83268862409594,\n",
              " 42.83568314743249,\n",
              " 42.83867445815683,\n",
              " 42.84166256304077,\n",
              " 42.844647468834296,\n",
              " 42.84762918226559,\n",
              " 42.850607710041174,\n",
              " 42.853583058845956,\n",
              " 42.85655523534338,\n",
              " 42.859524246175496,\n",
              " 42.86249009796303,\n",
              " 42.865452797305515,\n",
              " 42.86841235078137,\n",
              " 42.871368764947974,\n",
              " 42.874322046341796,\n",
              " 42.87727220147844,\n",
              " 42.880219236852774,\n",
              " 42.883163158939006,\n",
              " 42.88610397419076,\n",
              " 42.8890416890412,\n",
              " 42.89197630990307,\n",
              " 42.894907843168845,\n",
              " 42.89783629521074,\n",
              " 42.90076167238087,\n",
              " 42.90368398101129,\n",
              " 42.90660322741412,\n",
              " 42.90951941788158,\n",
              " 42.912432558686135,\n",
              " 42.91534265608051,\n",
              " 42.918249716297865,\n",
              " 42.92115374555178,\n",
              " 42.924054750036404,\n",
              " 42.92695273592652,\n",
              " 42.92984770937763,\n",
              " 42.93273967652604,\n",
              " 42.93562864348891,\n",
              " 42.9385146163644,\n",
              " 42.941397601231685,\n",
              " 42.94427760415106,\n",
              " 42.94715463116404,\n",
              " 42.950028688293415,\n",
              " 42.95289978154334,\n",
              " 42.95576791689939,\n",
              " 42.95863310032868,\n",
              " 42.96149533777994,\n",
              " 42.96435463518351,\n",
              " 42.96721099845154,\n",
              " 42.97006443347799,\n",
              " 42.9729149461387,\n",
              " 42.97576254229152,\n",
              " 42.978607227776344,\n",
              " 42.98144900841519,\n",
              " 42.98428789001228,\n",
              " 42.98712387835414,\n",
              " 42.989956979209595,\n",
              " 42.99278719832994,\n",
              " 42.99561454144896,\n",
              " 42.998439014282994,\n",
              " 43.00126062253104,\n",
              " 43.004079371874816,\n",
              " 43.006895267978805,\n",
              " 43.00970831649037,\n",
              " 43.01251852303979,\n",
              " 43.01532589324033,\n",
              " 43.018130432688366,\n",
              " 43.020932146963375,\n",
              " 43.02373104162804,\n",
              " 43.02652712222836,\n",
              " 43.02932039429363,\n",
              " 43.03211086333659,\n",
              " 43.034898534853454,\n",
              " 43.03768341432398,\n",
              " 43.04046550721156,\n",
              " 43.04324481896323,\n",
              " 43.04602135500981,\n",
              " 43.048795120765945,\n",
              " 43.05156612163012,\n",
              " 43.05433436298479,\n",
              " 43.05709985019642,\n",
              " 43.05986258861556,\n",
              " 43.06262258357688,\n",
              " 43.065379840399274,\n",
              " 43.0681343643859,\n",
              " 43.070886160824244,\n",
              " 43.073635234986185,\n",
              " 43.07638159212807,\n",
              " 43.07912523749077,\n",
              " 43.08186617629971,\n",
              " 43.08460441376499,\n",
              " 43.087339955081404,\n",
              " 43.09007280542852,\n",
              " 43.09280296997073,\n",
              " 43.0955304538573,\n",
              " 43.09825526222247,\n",
              " 43.100977400185485,\n",
              " 43.10369687285065,\n",
              " 43.10641368530738,\n",
              " 43.10912784263032,\n",
              " 43.11183934987933,\n",
              " 43.11454821209959,\n",
              " 43.11725443432164,\n",
              " 43.11995802156141,\n",
              " 43.12265897882036,\n",
              " 43.12535731108545,\n",
              " 43.12805302332926,\n",
              " 43.130746120509976,\n",
              " 43.13343660757153,\n",
              " 43.1361244894436,\n",
              " 43.13880977104169,\n",
              " 43.14149245726716,\n",
              " 43.14417255300732,\n",
              " 43.14685006313546,\n",
              " 43.14952499251088,\n",
              " 43.15219734597902,\n",
              " 43.15486712837142,\n",
              " 43.15753434450587,\n",
              " 43.16019899918638,\n",
              " 43.16286109720326,\n",
              " 43.16552064333324,\n",
              " 43.16817764233939,\n",
              " 43.1708320989713,\n",
              " 43.17348401796506,\n",
              " 43.176133404043334,\n",
              " 43.17878026191541,\n",
              " 43.18142459627725,\n",
              " 43.18406641181156,\n",
              " 43.18670571318779,\n",
              " 43.18934250506224,\n",
              " 43.19197679207811,\n",
              " 43.19460857886547,\n",
              " 43.19723787004144,\n",
              " 43.199864670210125,\n",
              " 43.20248898396272,\n",
              " 43.20511081587756,\n",
              " 43.20773017052014,\n",
              " ...]"
            ]
          },
          "metadata": {},
          "execution_count": 44
        }
      ]
    },
    {
      "cell_type": "code",
      "metadata": {
        "colab": {
          "base_uri": "https://localhost:8080/",
          "height": 296
        },
        "id": "7Ur2Udb3uXsF",
        "outputId": "c0f5c070-e434-4984-bedf-7e5874d4b59c"
      },
      "source": [
        "plt.plot(x,76.4*(.2387*(x+1)**3+0.00001*(x+1)**4+(np.pi)*(.2387)*(x+1)**(2)*((1300+1)**(-3)+(x+1)**(-3))/((1300+1)**(-3)+(1)**(1)))**(0.5), 'r', label='Model')\n",
        "plt.plot(red,dl, 'r', label='Model')\n",
        "plt.ylabel('m-M')\n",
        "plt.xlabel('z redshift')"
      ],
      "execution_count": null,
      "outputs": [
        {
          "output_type": "execute_result",
          "data": {
            "text/plain": [
              "Text(0.5, 0, 'z redshift')"
            ]
          },
          "metadata": {},
          "execution_count": 45
        },
        {
          "output_type": "display_data",
          "data": {
            "image/png": "[encoded data removed]",
            "text/plain": [
              "<Figure size 432x288 with 1 Axes>"
            ]
          },
          "metadata": {
            "needs_background": "light"
          }
        }
      ]
    },
    {
      "cell_type": "code",
      "metadata": {
        "colab": {
          "base_uri": "https://localhost:8080/",
          "height": 281
        },
        "id": "b4sIkrp5uXm1",
        "outputId": "89c322f4-38c4-4016-9e60-d400f9a84774"
      },
      "source": [
        "# show the plot\n",
        "plt.errorbar(red, dl,yerr=edl,color='black',fmt=',', capsize=1,elinewidth=0.8,alpha=0.7)\n",
        "plt.errorbar(x, datos,color='red',fmt='-',label='H_0=74.86 Model' ,linewidth=1)\n",
        "plt.errorbar(x, datosl,color='blue',fmt='--', label='$H_0$=67.34 $\\Lambda$CDM',linewidth=1)\n",
        "plt.legend(loc='lower right',frameon=1)\n",
        "plt.title('Luminosity distance')\n",
        "plt.savefig('lux.pdf')"
      ],
      "execution_count": null,
      "outputs": [
        {
          "output_type": "display_data",
          "data": {
            "image/png": "[encoded data removed]",
            "text/plain": [
              "<Figure size 432x288 with 1 Axes>"
            ]
          },
          "metadata": {
            "needs_background": "light"
          }
        }
      ]
    },
    {
      "cell_type": "code",
      "metadata": {
        "id": "NUvZ1LZZuXi_"
      },
      "source": [
        "plt.show()"
      ],
      "execution_count": null,
      "outputs": []
    },
    {
      "cell_type": "code",
      "metadata": {
        "colab": {
          "base_uri": "https://localhost:8080/",
          "height": 281
        },
        "id": "YhmaPMUUuXfO",
        "outputId": "29dddc95-e54b-4d55-dbdf-41296eda3031"
      },
      "source": [
        "\n",
        "plt.errorbar(red, dl,yerr=edl,color='black',fmt=',', capsize=1,elinewidth=0.8,alpha=0.7)\n",
        "plt.errorbar(x, datos,color='red',fmt='-',label='H_0=74.86 Model' ,linewidth=1)\n",
        "plt.errorbar(x, datosl,color='blue',fmt='--', label='$H_0$=67.34 $\\Lambda$CDM',linewidth=1)\n",
        "plt.legend(loc='lower right',frameon=1)\n",
        "plt.title('Luminosity distance')\n",
        "plt.savefig('lux.pdf')\n",
        "\n",
        "\n",
        "plt.show()"
      ],
      "execution_count": null,
      "outputs": [
        {
          "output_type": "display_data",
          "data": {
            "image/png": "[encoded data removed]",
            "text/plain": [
              "<Figure size 432x288 with 1 Axes>"
            ]
          },
          "metadata": {
            "needs_background": "light"
          }
        }
      ]
    }
  ]
}